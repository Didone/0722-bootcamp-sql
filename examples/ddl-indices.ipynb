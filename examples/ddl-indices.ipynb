{
 "cells": [
  {
   "cell_type": "code",
   "execution_count": 1,
   "metadata": {},
   "outputs": [],
   "source": [
    "from csvms.table import Table"
   ]
  },
  {
   "cell_type": "code",
   "execution_count": 2,
   "metadata": {},
   "outputs": [],
   "source": [
    "a = Table(\"x\", {'y':int, 'z':int}, data=[\n",
    "    (0,0),\n",
    "    (0,1),\n",
    "    (1,4)\n",
    "])"
   ]
  },
  {
   "cell_type": "code",
   "execution_count": 3,
   "metadata": {},
   "outputs": [
    {
     "name": "stdout",
     "output_type": "stream",
     "text": [
      "TABLE: default.x\n",
      "   +--+--+\n",
      "   |y |z |\n",
      "   +--+--+\n",
      "  0| 0| 0|\n",
      "  1| 0| 1|\n",
      "  2| 1| 4|\n",
      "   +--+--+\n",
      "\n"
     ]
    }
   ],
   "source": [
    "print(a)"
   ]
  },
  {
   "cell_type": "markdown",
   "metadata": {},
   "source": [
    "# Índices\n",
    "\n",
    "São estruturas de acesso auxiliares utilizadas para agilizar a recuperação de registros em resposta a certas condições de pesquisa. Eles permitem o acesso eficiente aos registros com base nos campos de indexação."
   ]
  },
  {
   "cell_type": "code",
   "execution_count": 4,
   "metadata": {},
   "outputs": [
    {
     "name": "stdout",
     "output_type": "stream",
     "text": [
      "TABLE: default.tb1\n",
      "   +------+--------------------+------+\n",
      "   |chave |desc                |valor |\n",
      "   +------+--------------------+------+\n",
      "  0| 40908|  hcudumbkmjtulafczy| 0.892|\n",
      "  1| 99472|        gheceftgfnrf|10.541|\n",
      "  2|  7510|      ddymrvnzvxkuyd| 2.132|\n",
      "  3|  2641|               tqibd| 9.947|\n",
      "  4| 41958|              txkmgd|   6.5|\n",
      "  5| 57133|        gkhnecesnurx| 4.453|\n",
      "  6| 16939|admbexigeremgossjcrq|   7.9|\n",
      "  7| 33925|                 ibs| 6.456|\n",
      "  8| 48362|                 rot| 2.926|\n",
      "  9| 52172|          gzgnxqdhmv| 9.909|\n",
      " 10| 39331|               imufz|  3.31|\n",
      " 11| 54365|esyxxbenagshxuvvxksa| 9.388|\n",
      " 12| 48625|             vdkrshn| 6.188|\n",
      " 13| 28926|     voxulueoeiobyom|  8.48|\n",
      " 14| 83236|                  bn| 7.334|\n",
      " 15| 95504|         cvmnxahuefb|10.793|\n",
      " 16| 25817|   ivxefdqnuaqnrvcrx| 5.237|\n",
      " 17| 10524|  mormzeahjcmrvjblmf| 4.243|\n",
      " 18| 97939|           renzqehdl| 1.191|\n",
      " 19| 13996|    rvqfkvorgegbfhlu| 1.743|\n",
      "   +------+--------------------+------+\n",
      "\n"
     ]
    }
   ],
   "source": [
    "import random\n",
    "from csvms.table import Table, Index\n",
    "\n",
    "# Generate sample data\n",
    "val='abcdefghijklmnoqrstuvxyz'\n",
    "dat=list()\n",
    "for _ in range(0,20):\n",
    "    dat.append(tuple([\n",
    "        random.randint(0,100000),\n",
    "        \"\".join([random.choice(val) for i in range(0,random.randint(1,20))]),\n",
    "        float(f\"{random.randint(0,10)}.{random.randint(0,1000)}\")])\n",
    "    )\n",
    "# Create table with sample data\n",
    "tb1 = Table(\n",
    "    name=\"tb1\",\n",
    "    columns={\n",
    "        \"chave\":int,\n",
    "        \"desc\":str,\n",
    "        \"valor\":float},\n",
    "    data=dat)\n",
    "print(tb1)"
   ]
  },
  {
   "cell_type": "markdown",
   "metadata": {},
   "source": [
    "O formato do comando de criação de indices em um banco de dados é o seguinte:\n",
    "\n",
    "```sql\n",
    "CREATE INDEX <nome_do_indice>\n",
    "    ON <nome_da_tabela> (<nome_da_coluna>)\n",
    "```"
   ]
  },
  {
   "cell_type": "code",
   "execution_count": 5,
   "metadata": {},
   "outputs": [
    {
     "name": "stdout",
     "output_type": "stream",
     "text": [
      "2641:3\n",
      "7510:2\n",
      "10524:17\n",
      "13996:19\n",
      "16939:6\n",
      "25817:16\n",
      "28926:13\n",
      "33925:7\n",
      "39331:10\n",
      "40908:0\n",
      "41958:4\n",
      "48362:8\n",
      "48625:12\n",
      "52172:9\n",
      "54365:11\n",
      "57133:5\n",
      "83236:14\n",
      "95504:15\n",
      "97939:18\n",
      "99472:1\n"
     ]
    }
   ],
   "source": [
    "idx_chave = Index(\n",
    "    name='idx_chave',\n",
    "    table=tb1,\n",
    "    attribute='chave')\n",
    "idx_chave.tree.show()"
   ]
  },
  {
   "cell_type": "code",
   "execution_count": 8,
   "metadata": {},
   "outputs": [
    {
     "name": "stderr",
     "output_type": "stream",
     "text": [
      "2022-07-26 19:47:42,089: search:left:40908\n",
      "2022-07-26 19:47:42,091: search:right:7510\n",
      "2022-07-26 19:47:42,092: search:right:16939\n",
      "2022-07-26 19:47:42,092: search:right:33925\n",
      "2022-07-26 19:47:42,093: search:found:39331\n"
     ]
    },
    {
     "name": "stdout",
     "output_type": "stream",
     "text": [
      "10\n"
     ]
    }
   ],
   "source": [
    "print(idx_chave.search(39331))"
   ]
  },
  {
   "cell_type": "code",
   "execution_count": 9,
   "metadata": {},
   "outputs": [
    {
     "name": "stdout",
     "output_type": "stream",
     "text": [
      "admbexigeremgossjcrq:6\n",
      "bn:14\n",
      "cvmnxahuefb:15\n",
      "ddymrvnzvxkuyd:2\n",
      "esyxxbenagshxuvvxksa:11\n",
      "gheceftgfnrf:1\n",
      "gkhnecesnurx:5\n",
      "gzgnxqdhmv:9\n",
      "hcudumbkmjtulafczy:0\n",
      "ibs:7\n",
      "imufz:10\n",
      "ivxefdqnuaqnrvcrx:16\n",
      "mormzeahjcmrvjblmf:17\n",
      "renzqehdl:18\n",
      "rot:8\n",
      "rvqfkvorgegbfhlu:19\n",
      "tqibd:3\n",
      "txkmgd:4\n",
      "vdkrshn:12\n",
      "voxulueoeiobyom:13\n"
     ]
    }
   ],
   "source": [
    "idx_desc = Index(\n",
    "    name='idx_desc',\n",
    "    table=tb1,\n",
    "    attribute='desc')\n",
    "idx_desc.tree.show()"
   ]
  },
  {
   "cell_type": "code",
   "execution_count": 10,
   "metadata": {},
   "outputs": [
    {
     "name": "stderr",
     "output_type": "stream",
     "text": [
      "2022-07-26 19:49:03,089: search:left:hcudumbkmjtulafczy\n",
      "2022-07-26 19:49:03,090: search:left:gheceftgfnrf\n",
      "2022-07-26 19:49:03,091: search:left:ddymrvnzvxkuyd\n",
      "2022-07-26 19:49:03,092: search:right:admbexigeremgossjcrq\n",
      "2022-07-26 19:49:03,093: search:found:bn\n"
     ]
    },
    {
     "name": "stdout",
     "output_type": "stream",
     "text": [
      "14\n"
     ]
    }
   ],
   "source": [
    "print(idx_desc.search('bn'))"
   ]
  },
  {
   "cell_type": "code",
   "execution_count": 11,
   "metadata": {},
   "outputs": [
    {
     "data": {
      "text/plain": [
       "True"
      ]
     },
     "execution_count": 11,
     "metadata": {},
     "output_type": "execute_result"
    }
   ],
   "source": [
    "tb1.save()"
   ]
  },
  {
   "cell_type": "markdown",
   "metadata": {},
   "source": [
    "## Ajuste de índices\n",
    "\n",
    "A escolha inicial de um índice pode precisar ser revisada ao longo do ciclo de vida da tabela, por algum dos motivos abaixo:\n",
    "\n",
    "+ Certas consultas podem levar muito tempo para serem executadas, por falta de um índice\n",
    "+ Certos índices podem nem chegar a serem utilizados\n",
    "+ Certos índices podem sofrer muita atualização, de acordo com o atributo no qual ele foi criado"
   ]
  },
  {
   "cell_type": "markdown",
   "metadata": {},
   "source": []
  }
 ],
 "metadata": {
  "kernelspec": {
   "display_name": "Python 3.8.10 ('csvms-l4jZKfPM-py3.8')",
   "language": "python",
   "name": "python3"
  },
  "language_info": {
   "codemirror_mode": {
    "name": "ipython",
    "version": 3
   },
   "file_extension": ".py",
   "mimetype": "text/x-python",
   "name": "python",
   "nbconvert_exporter": "python",
   "pygments_lexer": "ipython3",
   "version": "3.8.10"
  },
  "orig_nbformat": 4,
  "vscode": {
   "interpreter": {
    "hash": "1a84bf26869892adb843eae20f10e89c204f3e1c57aed8fbbbb6e912b0386733"
   }
  }
 },
 "nbformat": 4,
 "nbformat_minor": 2
}
