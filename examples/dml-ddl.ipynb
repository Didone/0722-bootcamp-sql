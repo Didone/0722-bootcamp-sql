{
 "cells": [
  {
   "cell_type": "markdown",
   "metadata": {},
   "source": [
    "# DDL e DML\n",
    "\n",
    "O SQL usa os termos **tabela**, **linha** e **coluna** para os termos do modelo relacional formal *relação*, *tupla* e *atributo* respectivamente."
   ]
  },
  {
   "cell_type": "code",
   "execution_count": 1,
   "metadata": {},
   "outputs": [],
   "source": [
    "# Utilizaremos a lib csvms em nossos exemplos\n",
    "from csvms.table import Table"
   ]
  },
  {
   "cell_type": "markdown",
   "metadata": {},
   "source": [
    "## Criação\n",
    "\n",
    "O comando `CREATE TABLE` é usado para especificar uma nova relação, dando-lhe um **nome** e especificando seus **atributos**. Cada um dos atributos recebe um **nome** e um **tipo de dado** para especificar seu domínio de valores.\n",
    "\n",
    "```sql\n",
    "CREATE TABLE lista_frutas (\n",
    "    nm_fruta TEXT ,\n",
    "    tp_fruta TEXT )\n",
    "```\n",
    "\n",
    "> Como nosso banco de dados será escrito na linguagem [python](https://www.w3schools.com/python/default.asp), utilizaremos os seus [tipos primitivos](https://www.w3schools.com/python/python_datatypes.asp) como tipos de dados.\n",
    "\n",
    "Os tipos de dados básicos disponíveis para atributos costumam ser:\n",
    "\n",
    "+ Numéricos\n",
    "+ Cadeia de caracters\n",
    "+ Cadeia de bits\n",
    "+ Booleano\n",
    "+ Data\n",
    "+ Hora\n",
    "\n",
    "> E é já a partir deste ponto em que os vários dialetos começam a surgir...\n",
    "\n",
    "![create table](../imgs/create_table.png)"
   ]
  },
  {
   "cell_type": "code",
   "execution_count": 3,
   "metadata": {},
   "outputs": [
    {
     "data": {
      "text/plain": [
       "True"
      ]
     },
     "execution_count": 3,
     "metadata": {},
     "output_type": "execute_result"
    }
   ],
   "source": [
    "# Criação da tabela\n",
    "Table(\n",
    "    name=\"lista_frutas\",\n",
    "    columns={\n",
    "        'nm_fruta':str,\n",
    "        'tp_fruta':str\n",
    "    }\n",
    ").save()"
   ]
  },
  {
   "cell_type": "markdown",
   "metadata": {},
   "source": [
    "## Transação\n",
    "\n",
    "O inicio do trabalho `BEGIN` se dá com o carregamento da tabela do sistema de arquivos para a SGA (System Global Area).\n",
    "Tudo o que ocorrer com este objeto durante seu período em mória será considerado uma transação até que se confirme com os comandos de `COMMIT` ou `ROLLBACK`"
   ]
  },
  {
   "cell_type": "code",
   "execution_count": 11,
   "metadata": {},
   "outputs": [],
   "source": [
    "# Carregar os dados da tabela para a memória\n",
    "tbl = Table('default.lista_frutas')"
   ]
  },
  {
   "cell_type": "code",
   "execution_count": 7,
   "metadata": {},
   "outputs": [
    {
     "name": "stdout",
     "output_type": "stream",
     "text": [
      "TABLE: default.lista_frutas\n",
      "   +---------+---------+\n",
      "   |nm_fruta |tp_fruta |\n",
      "   +---------+---------+\n",
      "   +---------+---------+\n",
      "\n"
     ]
    }
   ],
   "source": [
    "print(tbl)"
   ]
  },
  {
   "cell_type": "markdown",
   "metadata": {},
   "source": [
    "## Inclusão\n",
    "\n",
    "Em sua forma mais simples, o comando `INSERT` é usado para acrescentar uma única *tupla* (linha) em uma *relação* (tabela).\n",
    "Precisamos especificar o nome da relação e uma lista de valores para a tupla. Os valores devem ser informados na mesma ordem em que os atributos correspondentes foram especificados no `CREATE TABLE`.\n",
    "\n",
    "![insert](../imgs/insert.png)\n",
    "\n",
    "```sql\n",
    "INSERT INTO lista_frutas VALUES ('banana','doce');\n",
    "INSERT INTO lista_frutas VALUES ('limão','azedo');\n",
    "INSERT INTO lista_frutas VALUES ('maçã','doce');\n",
    "```"
   ]
  },
  {
   "cell_type": "code",
   "execution_count": 8,
   "metadata": {},
   "outputs": [
    {
     "name": "stderr",
     "output_type": "stream",
     "text": [
      "2022-07-25 21:45:00,443: Row ('banana', 'doce') inserted\n",
      "2022-07-25 21:45:00,445: Row ('limão', 'azedo') inserted\n",
      "2022-07-25 21:45:00,446: Row ('maçã', 'doce') inserted\n"
     ]
    },
    {
     "data": {
      "text/plain": [
       "True"
      ]
     },
     "execution_count": 8,
     "metadata": {},
     "output_type": "execute_result"
    }
   ],
   "source": [
    "# Inserir as tres linhas conforme descrito\n",
    "tbl.append('banana','doce')\n",
    "tbl.append('limão','azedo')\n",
    "tbl.append('maçã','doce')"
   ]
  },
  {
   "cell_type": "code",
   "execution_count": 9,
   "metadata": {},
   "outputs": [
    {
     "name": "stdout",
     "output_type": "stream",
     "text": [
      "TABLE: default.lista_frutas\n",
      "   +---------+---------+\n",
      "   |nm_fruta |tp_fruta |\n",
      "   +---------+---------+\n",
      "  0|   banana|     doce|\n",
      "  1|    limão|    azedo|\n",
      "  2|     maçã|     doce|\n",
      "   +---------+---------+\n",
      "\n"
     ]
    }
   ],
   "source": [
    "print(tbl)"
   ]
  },
  {
   "cell_type": "markdown",
   "metadata": {},
   "source": [
    "## Confirmação\n",
    "\n",
    "Com o comando de `COMMIT` confirmamos que todas as alterações desta transação deverão ser **salvas** em definitivo.\n",
    "\n",
    "```sql\n",
    "COMMIT\n",
    "```"
   ]
  },
  {
   "cell_type": "code",
   "execution_count": 10,
   "metadata": {},
   "outputs": [
    {
     "data": {
      "text/plain": [
       "True"
      ]
     },
     "execution_count": 10,
     "metadata": {},
     "output_type": "execute_result"
    }
   ],
   "source": [
    "# Salvar os dados da tabela no sistema de arquivos\n",
    "tbl.save()"
   ]
  },
  {
   "cell_type": "markdown",
   "metadata": {},
   "source": [
    "## Atualização\n",
    "\n",
    "O comando `UPDATE` é utilizado para modificar valores de atributos de uma ou mais *tuplas* selecionadas. Assim como no comando `DELETE`, é possível adicionar uma clausula `WHERE` no comando para informar o critério de seleção das linhas que serão afetadas.\n",
    "\n",
    "```sql\n",
    "UPDATE lista_frutas \n",
    "   SET tp_fruta = 'amargo'\n",
    " WHERE tp_fruta = 'doce'\n",
    "```"
   ]
  },
  {
   "cell_type": "code",
   "execution_count": 14,
   "metadata": {},
   "outputs": [
    {
     "name": "stderr",
     "output_type": "stream",
     "text": [
      "2022-07-25 21:52:24,807: Row 0 updated with values ['banana', 'amargo']\n",
      "2022-07-25 21:52:24,809: Row 2 updated with values ['maçã', 'amargo']\n"
     ]
    },
    {
     "name": "stdout",
     "output_type": "stream",
     "text": [
      "TABLE: default.lista_frutas\n",
      "   +---------+---------+\n",
      "   |nm_fruta |tp_fruta |\n",
      "   +---------+---------+\n",
      "  0|   banana|   amargo|\n",
      "  1|    limão|    azedo|\n",
      "  2|     maçã|   amargo|\n",
      "   +---------+---------+\n",
      "\n"
     ]
    }
   ],
   "source": [
    "# Alterar todas as frutas do tipo 'doce' para 'amargo'\n",
    "for idx, row in enumerate(tbl):\n",
    "    if row[1]=='doce':\n",
    "        new = list(row)\n",
    "        new[1]='amargo'\n",
    "        tbl[idx]=new\n",
    "\n",
    "print(tbl)"
   ]
  },
  {
   "cell_type": "markdown",
   "metadata": {},
   "source": [
    "## Exclusão\n",
    "\n",
    "O comando `DELETE` remove *tuplas* de uma relação. Ele possui uma clausula *`WHERE`*, semelhante a utilzada em consultas, para selecionar a tuplas que serão excluídas.\n",
    "\n",
    "```sql\n",
    "DELETE FROM lista_frutas WHERE nm_fruta = 'limão'\n",
    "```"
   ]
  },
  {
   "cell_type": "code",
   "execution_count": 15,
   "metadata": {},
   "outputs": [
    {
     "name": "stderr",
     "output_type": "stream",
     "text": [
      "2022-07-25 21:54:39,025: Row ('limão', 'azedo') deleted\n"
     ]
    },
    {
     "name": "stdout",
     "output_type": "stream",
     "text": [
      "TABLE: default.lista_frutas\n",
      "   +---------+---------+\n",
      "   |nm_fruta |tp_fruta |\n",
      "   +---------+---------+\n",
      "  0|   banana|   amargo|\n",
      "  1|     maçã|   amargo|\n",
      "   +---------+---------+\n",
      "\n"
     ]
    }
   ],
   "source": [
    "# Procura em toda a tabela por linhas cujo nome da fruta seja \"limão\"\n",
    "for idx, row in enumerate(tbl):\n",
    "    if row[0]=='limão':\n",
    "        del tbl[idx]\n",
    "\n",
    "print(tbl)\n"
   ]
  },
  {
   "cell_type": "markdown",
   "metadata": {},
   "source": [
    "## Descarte\n",
    "\n",
    "Com o comando de `ROLLBACK` descartamos todas as alterações desta transação, voltando assim ao estado em que os dados se encontravam desde a ultima operação salva. O comando de `ROLLBACK` finalizará um trabalho e iniciará outro.\n",
    "\n",
    "```sql\n",
    "ROLLBACK\n",
    "```"
   ]
  },
  {
   "cell_type": "code",
   "execution_count": 16,
   "metadata": {},
   "outputs": [],
   "source": [
    "# Descartar todas as modificações realizadas\n",
    "tbl = Table('lista_frutas')"
   ]
  },
  {
   "cell_type": "code",
   "execution_count": 17,
   "metadata": {},
   "outputs": [
    {
     "name": "stdout",
     "output_type": "stream",
     "text": [
      "TABLE: default.lista_frutas\n",
      "   +---------+---------+\n",
      "   |nm_fruta |tp_fruta |\n",
      "   +---------+---------+\n",
      "  0|   banana|     doce|\n",
      "  1|    limão|    azedo|\n",
      "  2|     maçã|     doce|\n",
      "   +---------+---------+\n",
      "\n"
     ]
    }
   ],
   "source": [
    "print(tbl)"
   ]
  },
  {
   "cell_type": "markdown",
   "metadata": {},
   "source": [
    "## Alteração\n",
    "\n",
    "O comando `ALTER TABLE` serve para alterar os atributos definidos para a tabela durante o processo de criação `CREATE TABLE`. Seus principais operadores servem para adição (`ADD`), modificação (`MODIFY`) tipo de dado, renomear (`RENAME`) um atributo ou ainda a remoção (`DROP`) de atributos existentes.\n",
    "\n",
    "> Este sistema não prevê *concorrencia*, por isso podemos trabalhar sobre os objetos da SGA"
   ]
  },
  {
   "cell_type": "markdown",
   "metadata": {},
   "source": [
    "```sql\n",
    "ALTER TABLE lista_frutas ADD (valor INTEGER)\n",
    "```"
   ]
  },
  {
   "cell_type": "code",
   "execution_count": 9,
   "metadata": {},
   "outputs": [],
   "source": [
    "# Adiciona uma nova coluna do tipo inteiro chamada valor"
   ]
  },
  {
   "cell_type": "markdown",
   "metadata": {},
   "source": [
    "```sql \n",
    "ALTER TABLE lista_frutas MODIFY (valor INTEGER) TO (vl_fruta FLOAT);\n",
    "```"
   ]
  },
  {
   "cell_type": "code",
   "execution_count": 10,
   "metadata": {},
   "outputs": [],
   "source": [
    "# Renomear a coluna para a convenção de nomes utilizada na tabela e alterar seu tipo para ponto flutuante"
   ]
  },
  {
   "cell_type": "markdown",
   "metadata": {},
   "source": [
    "```sql\n",
    "ALTER TABLE lista_frutas DROP vl_fruta;\n",
    "```"
   ]
  },
  {
   "cell_type": "code",
   "execution_count": 11,
   "metadata": {},
   "outputs": [],
   "source": [
    "# Remove a coluna 'vl_fruta' da tabela"
   ]
  },
  {
   "cell_type": "markdown",
   "metadata": {},
   "source": [
    "## Eliminação\n",
    "\n",
    "Como o nome diz, o comando `DROP TABLE` eliminará o objeto do sistema. Ou seja, tanto o que está em memória quanto no sistema de arquivos e catalogo de dados.\n",
    "\n",
    "![drop table](../imgs/drop_table.png)"
   ]
  },
  {
   "cell_type": "code",
   "execution_count": 12,
   "metadata": {},
   "outputs": [],
   "source": [
    "# Eliminar a tabela do sistema"
   ]
  },
  {
   "cell_type": "markdown",
   "metadata": {},
   "source": []
  }
 ],
 "metadata": {
  "kernelspec": {
   "display_name": "Python 3.8.10 ('csvms-l4jZKfPM-py3.8')",
   "language": "python",
   "name": "python3"
  },
  "language_info": {
   "codemirror_mode": {
    "name": "ipython",
    "version": 3
   },
   "file_extension": ".py",
   "mimetype": "text/x-python",
   "name": "python",
   "nbconvert_exporter": "python",
   "pygments_lexer": "ipython3",
   "version": "3.8.10"
  },
  "orig_nbformat": 4,
  "vscode": {
   "interpreter": {
    "hash": "1a84bf26869892adb843eae20f10e89c204f3e1c57aed8fbbbb6e912b0386733"
   }
  }
 },
 "nbformat": 4,
 "nbformat_minor": 2
}
