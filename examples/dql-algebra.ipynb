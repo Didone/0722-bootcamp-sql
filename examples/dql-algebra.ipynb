{
 "cells": [
  {
   "cell_type": "markdown",
   "metadata": {},
   "source": [
    "# Álgebra relacional\n",
    "\n",
    "A álgebra relacional é uma coleção de operadores que tomam relações como seus operandos e retornam uma relação como seu resultado."
   ]
  },
  {
   "cell_type": "code",
   "execution_count": 2,
   "metadata": {},
   "outputs": [],
   "source": [
    "# Utilizaremos a lib csvms em nossos exemplos\n",
    "from csvms.table import Table"
   ]
  },
  {
   "cell_type": "markdown",
   "metadata": {},
   "source": [
    "### Conjunto de dados\n",
    "\n",
    "Relação **A**\n",
    "\n",
    "|DeptId|DeptName|Manager|\n",
    "|------|--------|-------|\n",
    "|1|Finance|George|\n",
    "|2|Sales|Charles|\n",
    "\n",
    "\n",
    "Relação **B**\n",
    "\n",
    "|DeptId|DeptName|Manager|\n",
    "|------|--------|-------|\n",
    "|1|Finance|George|\n",
    "|2|Production|George|"
   ]
  },
  {
   "cell_type": "code",
   "execution_count": 3,
   "metadata": {},
   "outputs": [],
   "source": [
    "# Criação das tabelas A e B\n",
    "A = Table(\n",
    "    name=\"A\",\n",
    "    columns={\"DeptId\":int, \"DeptName\":str, \"Manager\":str},\n",
    "    data=[\n",
    "        (1, \"Finance\",\"George\"),\n",
    "        (2, \"Sales\",\"Charles\"),\n",
    "    ])\n",
    "## Relação B\n",
    "B = Table(\n",
    "    name=\"B\",\n",
    "    columns={\"DeptId\":int, \"DeptName\":str, \"Manager\":str},\n",
    "    data=[\n",
    "        (1, \"Finance\",\"George\"),\n",
    "        (3, \"Production\",\"George\"),\n",
    "    ])\n"
   ]
  },
  {
   "cell_type": "code",
   "execution_count": 4,
   "metadata": {},
   "outputs": [
    {
     "name": "stdout",
     "output_type": "stream",
     "text": [
      "TABLE: default.A\n",
      "   +-------+---------+--------+\n",
      "   |DeptId |DeptName |Manager |\n",
      "   +-------+---------+--------+\n",
      "  0|      1|  Finance|  George|\n",
      "  1|      2|    Sales| Charles|\n",
      "   +-------+---------+--------+\n",
      "\n",
      "TABLE: default.B\n",
      "   +-------+----------+--------+\n",
      "   |DeptId |DeptName  |Manager |\n",
      "   +-------+----------+--------+\n",
      "  0|      1|   Finance|  George|\n",
      "  1|      3|Production|  George|\n",
      "   +-------+----------+--------+\n",
      "\n"
     ]
    }
   ],
   "source": [
    "print(A)\n",
    "print(B)"
   ]
  },
  {
   "cell_type": "markdown",
   "metadata": {},
   "source": [
    "## Operadores\n",
    "\n",
    "|Álgebra|csvms |Operação |Sintaxe|Primário|\n",
    "|-------|------|---------|-------|--------|\n",
    "|**∪**| + |União (*Union*)|A + B|Sim|\n",
    "|**∩** | % |Interseção (*Intersection*)|A % B|Sim|\n",
    "|**-** | – |Diferença (*Difference*)|A – B|Sim|\n",
    "|**×** | * |Produto Cartesiano (*Product*)|A * B|Sim|\n",
    "|**÷** | / |Divisão (*DivideBy*)|A ÷ (Relação C)|Sim|\n",
    "|**π** | π |Projeção (*Project*)|A.π(`<lista de atributos>`)|Sim|\n",
    "|**σ** | σ |Seleção (*Select*)|A.σ([`<condição lógica>`])|Sim|\n",
    "|**ρ** | ρ |Renomear (*Rename*)|A.ρ(`nome`)|Não|\n",
    "|**Π** | Π |Projeção estendida (*Extend*)|A.Π(`<funções>`)|Não|\n",
    "|**⋈**| ᐅᐊ |Junção (*Join*)|A.ᐅᐊ( B, `<condição lógica>` )|Sim|\n",
    "|**⟕**| ᗌᐊ |Junção externa esquerda (*Left Outer Join*)|A.ᗌᐊ( B, `<condição lógica>` )|Não|\n",
    "|**⟖**| ᐅᗏ |Junção externa direita (*Right Outer Join*)|A.ᐅᗏ( B, `<condição lógica>` )|Não|\n",
    "|**⟗**| ᗌᗏ |Junção externa total (*Full Outer Join*)|A.ᗌᗏ( B, `<condição lógica>` )|Não|\n",
    "|**⋉**| ᐅᐸ |Semijunção esquerda (*Left Semi Join*)|A.ᐅᐸ( B, `<condição lógica>` )|Não|\n",
    "|**⋊**| ᐳᐊ |Semijunção direita (*Right Semi Join*)|A.ᐳᐊ( B, `<condição lógica>` )|Não|\n",
    "|**▷**| ᐅ |Antijunção esquerda (*Left Anti Join*)|A.ᐅ( B, `<condição lógica>` )|Não|\n",
    "|**◁**| ◁ |Antijunção direita (*Right Anti Join*)|A.◁( B, `<condição lógica>` )|Não|\n"
   ]
  },
  {
   "cell_type": "markdown",
   "metadata": {},
   "source": [
    "### União\n",
    "\n",
    "*Retorna uma relação contendo todas as tuplas que aparecem em uma ou ambas as relações especificadas.*\n",
    "\n",
    "Em matemática, a união de dois conjuntos é o conjunto de todos os elementos que pertencem a um ou a ambos os conjuntos originais. Na álgebra relacional **não é a união matemática habitual**.\n",
    "\n",
    "Dadas duas relações A e B do mesmo tipo, a união dessas duas relações, `A + B`, é uma relação do mesmo tipo, cujo corpo consiste em todas as tuplas t tais que t aparece em A ou em B, ou ainda em ambas.\n",
    "\n",
    "> A operação de união (*UNION*) é representada pelo operador `+`"
   ]
  },
  {
   "cell_type": "code",
   "execution_count": 6,
   "metadata": {},
   "outputs": [
    {
     "name": "stdout",
     "output_type": "stream",
     "text": [
      "TABLE: default.(A∪B)\n",
      "   +-------+----------+--------+\n",
      "   |DeptId |DeptName  |Manager |\n",
      "   +-------+----------+--------+\n",
      "  0|      1|   Finance|  George|\n",
      "  1|      2|     Sales| Charles|\n",
      "  2|      3|Production|  George|\n",
      "   +-------+----------+--------+\n",
      "\n"
     ]
    }
   ],
   "source": [
    "# União de A e B\n",
    "C = A + B\n",
    "print(C)"
   ]
  },
  {
   "cell_type": "markdown",
   "metadata": {},
   "source": [
    "### Interseção\n",
    "\n",
    "*Retorna uma relação contendo todas as tuplas que aparecem em ambas as relações especificadas.*\n",
    "\n",
    "Como o operador de união, e essencialmente pela mesma razão, o operador relacional de interseção exige que seus operandos sejam do mesmo tipo. Então, dadas duas relações A e B do mesmo tipo, a interseção dessas duas relações, `A % B`, é uma relação do mesmo tipo, cujo corpo consiste em todas as tuplas t tais que t aparece em A e em B.\n",
    "\n",
    "> A operação de interceção (*INSERCT*) é representada pelo operador `%`"
   ]
  },
  {
   "cell_type": "code",
   "execution_count": 8,
   "metadata": {},
   "outputs": [
    {
     "name": "stdout",
     "output_type": "stream",
     "text": [
      "TABLE: default.(A∩B)\n",
      "   +-------+---------+--------+\n",
      "   |DeptId |DeptName |Manager |\n",
      "   +-------+---------+--------+\n",
      "  0|      1|  Finance|  George|\n",
      "   +-------+---------+--------+\n",
      "\n"
     ]
    }
   ],
   "source": [
    "# Interseção de A e B\n",
    "C = A % B\n",
    "print(C)"
   ]
  },
  {
   "cell_type": "markdown",
   "metadata": {},
   "source": [
    "### Diferença\n",
    "*Retorna uma relação contendo todas as tuplas que aparecem na primeira e não na segunda de duas relações especificadas.*\n",
    "\n",
    "Como os operadores de união e interseção, o operador relacional de diferença também exige que seus operandos sejam do mesmo tipo. Então, dadas duas relações A e B do mesmo tipo, a diferença entre essas duas relações, `A - B` (nessa ordem), é uma relação do mesmo tipo, cujo corpo consiste em todas as tuplas t tais que t aparece em A e não em B.\n",
    "\n",
    "> A operação de diferença (*MINUS*) é representada pelo operador `-`"
   ]
  },
  {
   "cell_type": "code",
   "execution_count": 9,
   "metadata": {},
   "outputs": [
    {
     "name": "stdout",
     "output_type": "stream",
     "text": [
      "TABLE: default.(A−B)\n",
      "   +-------+---------+--------+\n",
      "   |DeptId |DeptName |Manager |\n",
      "   +-------+---------+--------+\n",
      "  0|      2|    Sales| Charles|\n",
      "   +-------+---------+--------+\n",
      "\n",
      "TABLE: default.(B−A)\n",
      "   +-------+----------+--------+\n",
      "   |DeptId |DeptName  |Manager |\n",
      "   +-------+----------+--------+\n",
      "  0|      3|Production|  George|\n",
      "   +-------+----------+--------+\n",
      "\n"
     ]
    }
   ],
   "source": [
    "# Diferença de A e B\n",
    "C = A - B\n",
    "print(C)\n",
    "# Diferença de B e A\n",
    "C = B - A\n",
    "print(C)"
   ]
  },
  {
   "cell_type": "markdown",
   "metadata": {},
   "source": [
    "### Produto\n",
    "\n",
    "*Retorna uma relação contendo todas as tuplas possíveis que são uma combinação de duas tuplas, uma de cada uma das duas relações especificadas.*\n",
    "\n",
    "O produto cartesiano (relacional) de duas relações A e B, `A * B`, consiste no conjunto de todas as tuplas t, tais que t é a união (da teoria de conjuntos) de uma tupla que pertence a A e uma tupla que pertence a B. \n",
    "O cabeçalho do resultado consiste em todos os atributos de ambos os cabeçalhos de entrada.\n",
    "\n",
    "> A operação de produto (*TIMES*) é representada pelo operador `*`"
   ]
  },
  {
   "cell_type": "code",
   "execution_count": 12,
   "metadata": {},
   "outputs": [
    {
     "name": "stdout",
     "output_type": "stream",
     "text": [
      "TABLE: default.(A×B)\n",
      "   +---------+-----------+----------+---------+-----------+----------+\n",
      "   |DeptId   |DeptName   |Manager   |DeptId   |DeptName   |Manager   |\n",
      "   +---------+-----------+----------+---------+-----------+----------+\n",
      "  0|        1|    Finance|    George|        1|    Finance|    George|\n",
      "  1|        1|    Finance|    George|        3| Production|    George|\n",
      "  2|        2|      Sales|   Charles|        1|    Finance|    George|\n",
      "  3|        2|      Sales|   Charles|        3| Production|    George|\n",
      "   +---------+-----------+----------+---------+-----------+----------+\n",
      "\n"
     ]
    }
   ],
   "source": [
    "# Produto de A e B\n",
    "C = A * B\n",
    "print(C)"
   ]
  },
  {
   "cell_type": "markdown",
   "metadata": {},
   "source": [
    "### Seleção\n",
    "\n",
    "*Retorna uma relação contendo todas as (sub)tuplas que permanecem em uma relação especificada após a remoção dos atributos especificados.*\n",
    "\n",
    "Seja a relação A com os atributos X e Y (e possivelmente outros), e seja q um operador – normalmente, “=”, “≠”, “>”, “<” etc. – tal que a expressão booleana X Y seja bem definida e, dados valores particulares para X e Y, seja avaliada como um valor verdade (TRUE ou FALSE). Então, a restrição-θ, ou apenas restrição (para abreviar) da relação A sobre os atributos X e Y (`a WHERE X Y`) é uma relação com o mesmo cabeçalho de a e cujo corpo consiste em todas as tuplas de a, tais que a expressão X Y é avaliada como TRUE para essa tupla em questão.\n",
    "\n",
    "> A operação de seleção (*WHERE*) é executada através da função `σ`\n",
    "\n",
    "Os operadores lógicos aceitos estão relacionados na tabela abaixo:\n",
    "\n",
    "| chave | operação |\n",
    "|-------|----------|\n",
    "|lt|*menor que* (`<`)|\n",
    "|gt|*maior que* (`>`)|\n",
    "|eq|*igualdade* (`=`)|\n",
    "|lte|*menor ou igual* (`<=`)|\n",
    "|gte|*maior ou igual* (`>=`)|\n",
    "|neq|*diferença* (`≠`)|\n",
    "|in|*Está contido* (`⊂`)|\n",
    "|nin|*Não está contido* (`⊄`)|\n",
    "|or|*ou* (`\\|\\|`)|\n",
    "|and|*e* (`&&`)|\n",
    "|missing|*O valor é **nulo***|\n",
    "|exists|*O valor não é **nulo***|\n"
   ]
  },
  {
   "cell_type": "code",
   "execution_count": 31,
   "metadata": {},
   "outputs": [
    {
     "data": {
      "text/plain": [
       "{'select': [{'value': 'Manager', 'name': 'Gerente'},\n",
       "  {'value': 'DeptName', 'name': 'Departamento'}],\n",
       " 'from': 'A',\n",
       " 'where': {'gt': ['DeptId', 1]}}"
      ]
     },
     "execution_count": 31,
     "metadata": {},
     "output_type": "execute_result"
    }
   ],
   "source": [
    "from mo_sql_parsing import parse\n",
    "parse(\"\"\"\n",
    "select Manager as \"Gerente\"\n",
    "     , DeptName as \"Departamento\"\n",
    "  from A \n",
    " where DeptId > 1 \"\"\")"
   ]
  },
  {
   "cell_type": "code",
   "execution_count": 41,
   "metadata": {},
   "outputs": [
    {
     "name": "stdout",
     "output_type": "stream",
     "text": [
      "TABLE: default.(Aσ)\n",
      "   +-------+---------+--------+\n",
      "   |DeptId |DeptName |Manager |\n",
      "   +-------+---------+--------+\n",
      "  0|      2|    Sales| Charles|\n",
      "   +-------+---------+--------+\n",
      "\n"
     ]
    }
   ],
   "source": [
    "# WHERE Manager = 'George' AND DeptId > 1\n",
    "C = A.σ({'gt':['DeptId',1]})\n",
    "print(C)"
   ]
  },
  {
   "cell_type": "markdown",
   "metadata": {},
   "source": [
    "### Projeção\n",
    "\n",
    "Seja a relação a com os atributos X, Y, ..., Z (e possivelmente outros). O operador de projeção produz efetivamente um subconjunto “vertical” de determinada relação, ou seja, o subconjunto obtido pela remoção de todos os atributos não mencionados na lista_com_vírgulas de nomes de atributos especificada\n",
    "\n",
    "> A operação de projeção (*PROJECTION*) é executada através da função `π`"
   ]
  },
  {
   "cell_type": "code",
   "execution_count": 33,
   "metadata": {},
   "outputs": [
    {
     "name": "stdout",
     "output_type": "stream",
     "text": [
      "TABLE: default.(Aπ)\n",
      "   +--------+-------------+\n",
      "   |Gerente |Departamento |\n",
      "   +--------+-------------+\n",
      "  0|  George|      Finance|\n",
      "  1| Charles|        Sales|\n",
      "   +--------+-------------+\n",
      "\n"
     ]
    }
   ],
   "source": [
    "# Projetar os atributos 'DeptId' e 'DeptName' da relação A\n",
    "C = A.π(\n",
    "    [\n",
    "        {'value':'Manager','name':'Gerente'},\n",
    "        {'value':'DeptName','name':'Departamento'}\n",
    "    ])\n",
    "print(C)"
   ]
  },
  {
   "cell_type": "markdown",
   "metadata": {},
   "source": [
    "#### Operadores adicionais\n",
    "O conjunto de operações abaixo faz parte da **versão extendida** da álgebra relacional, não sendo assim, um dos operadores primários"
   ]
  },
  {
   "cell_type": "markdown",
   "metadata": {},
   "source": [
    "##### Renomear\n",
    "\n",
    "O operador `RENAME` toma determinada relação e retorna outra relação idêntica à primeira, exceto pelo fato de um de seus atributos receber um nome diferente. (A relação dada é especificada por meio de uma expressão relacional, talvez envolvendo outras operações relacionais.)\n",
    "\n",
    "> A operação de renomear (*RENAME*) é executada através da função `ρ`"
   ]
  },
  {
   "cell_type": "code",
   "execution_count": 37,
   "metadata": {},
   "outputs": [
    {
     "name": "stdout",
     "output_type": "stream",
     "text": [
      "TABLE: default.C\n",
      "   +-------+---------+--------+\n",
      "   |DeptId |DeptName |Manager |\n",
      "   +-------+---------+--------+\n",
      "  0|      1|  Finance|  George|\n",
      "  1|      2|    Sales| Charles|\n",
      "   +-------+---------+--------+\n",
      "\n"
     ]
    }
   ],
   "source": [
    "# Renomear a relação A para C\n",
    "print(A.ρ(\"C\"))"
   ]
  },
  {
   "cell_type": "code",
   "execution_count": 42,
   "metadata": {},
   "outputs": [
    {
     "name": "stdout",
     "output_type": "stream",
     "text": [
      "TABLE: default.C\n",
      "   +--------+-------------+\n",
      "   |Gerente |Departamento |\n",
      "   +--------+-------------+\n",
      "  0| Charles|        Sales|\n",
      "   +--------+-------------+\n",
      "\n"
     ]
    }
   ],
   "source": [
    "C = A.σ({'gt':['DeptId',1]}).π(\n",
    "    [\n",
    "        {'value':'Manager','name':'Gerente'},\n",
    "        {'value':'DeptName','name':'Departamento'}\n",
    "    ]).ρ(\"C\")\n",
    "print(C)"
   ]
  },
  {
   "cell_type": "markdown",
   "metadata": {},
   "source": [
    "##### Projeção Extendida\n",
    "\n",
    "A opreação `EXTEND` toma uma relação e retorna outra relação idêntica à relação dada, mas *incluindo um atributo adicional*, cujos valores são obtidos pela avaliação de alguma **expressão computacional especificada**. Por exemplo, poderíamos escrever: `EXTEND` P ADD ( PESO * 454 ) \n",
    "\n",
    "> A operação de projeção extendida (*EXTEND*) é executada através da função `Π`"
   ]
  },
  {
   "cell_type": "code",
   "execution_count": 46,
   "metadata": {},
   "outputs": [
    {
     "name": "stdout",
     "output_type": "stream",
     "text": [
      "TABLE: default.(AΠ)\n",
      "   +-------+---------+--------+------+\n",
      "   |DeptId |DeptName |Manager |Dobro |\n",
      "   +-------+---------+--------+------+\n",
      "  0|      1|  Finance|  George|     2|\n",
      "  1|      2|    Sales| Charles|     4|\n",
      "   +-------+---------+--------+------+\n",
      "\n"
     ]
    }
   ],
   "source": [
    "# Extender a relação A com a multiplicação do 'DeptId' por 2\n",
    "C = A.Π({'mul':['DeptId',2]}, 'Dobro')\n",
    "print(C)"
   ]
  },
  {
   "cell_type": "markdown",
   "metadata": {},
   "source": [
    "### Junção\n",
    "\n",
    "Existem diversas variedades da operação de junção. Porém, de longe a mais importante é a chamada **junção natural**.\n",
    "Sejam as relações A e B com os atributos: X, Y e Z; Então, a junção natural de A e B (`A ⋈ B`) é uma relação com o cabeçalho {X,Y,Z} e corpo que consiste no conjunto de todas as tuplas {X x,Y y,Z z} tal que uma tupla aparece em a com o valor X de x e o valor Y de y, e uma tupla aparece em b com o valor Y de y e o valor Z de z.\n",
    "\n",
    "Sejam as relações A e B que satisfazem aos requisitos do produto cartesiano; suponha que a tenha um atributo X e que B tenha um atributo Y, e suponha ainda que X, Y e atendam aos requisitos da restrição-q. Então, a junção-q da relação A sobre o atributo X com a relação b sobre o atributo Y é definida como sendo o resultado da avaliação da expressão: \n",
    "\n",
    "`( A TIMES B ) WHERE X Y`\n",
    "\n",
    "Em outras palavras, ela é uma relação com o mesmo cabeçalho que o produto cartesiano de a e b, e cujo corpo é o conjunto de todas as tuplas, t tais que t pertence ao produto cartesiano e a condição “X Y” tem valor TRUE para essa tupla t.\n",
    "\n",
    "> A operação de junção (*JOIN*) é executada através da função `ᐅᐊ`"
   ]
  },
  {
   "cell_type": "code",
   "execution_count": null,
   "metadata": {
    "vscode": {
     "languageId": "sql"
    }
   },
   "outputs": [],
   "source": [
    "select *\n",
    "   from A\n",
    "   join B on A.DeptID = B.DeptID"
   ]
  },
  {
   "cell_type": "code",
   "execution_count": 49,
   "metadata": {},
   "outputs": [
    {
     "name": "stdout",
     "output_type": "stream",
     "text": [
      "TABLE: default.(A⋈B)\n",
      "   +---------+-----------+----------+---------+-----------+----------+\n",
      "   |DeptId   |DeptName   |Manager   |DeptId   |DeptName   |Manager   |\n",
      "   +---------+-----------+----------+---------+-----------+----------+\n",
      "  0|        1|    Finance|    George|        1|    Finance|    George|\n",
      "   +---------+-----------+----------+---------+-----------+----------+\n",
      "\n"
     ]
    }
   ],
   "source": [
    "# Junção das relações A e B pelo atributo 'DeptId'\n",
    "C = A.ᐅᐊ(B,where={'eq':['A.DeptId','B.DeptId']})\n",
    "print(C)"
   ]
  },
  {
   "cell_type": "markdown",
   "metadata": {},
   "source": [
    "> [Continua...](dql-joins.ipynb)"
   ]
  }
 ],
 "metadata": {
  "kernelspec": {
   "display_name": "Python 3.8.10 ('csvms-l4jZKfPM-py3.8')",
   "language": "python",
   "name": "python3"
  },
  "language_info": {
   "codemirror_mode": {
    "name": "ipython",
    "version": 3
   },
   "file_extension": ".py",
   "mimetype": "text/x-python",
   "name": "python",
   "nbconvert_exporter": "python",
   "pygments_lexer": "ipython3",
   "version": "3.8.10"
  },
  "orig_nbformat": 4,
  "vscode": {
   "interpreter": {
    "hash": "1a84bf26869892adb843eae20f10e89c204f3e1c57aed8fbbbb6e912b0386733"
   }
  }
 },
 "nbformat": 4,
 "nbformat_minor": 2
}
