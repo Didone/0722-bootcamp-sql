{
 "cells": [
  {
   "cell_type": "markdown",
   "metadata": {},
   "source": [
    "# Junções\n",
    "\n",
    "Existem diversas variedades da operação de junção. Porém, de longe a mais importante é a chamada junção natural, tanto que, o termo junção não qualificado é empregado invariavelmente para indicar de forma específica a junção natural."
   ]
  },
  {
   "cell_type": "markdown",
   "metadata": {},
   "source": [
    "#### Relações\n",
    "\n",
    "Para os exemplos a seguir, considere as seguintes relações\n",
    "\n",
    "`S` - Tropas\n",
    "\n",
    "|cod|divisão|\n",
    "|---|-------|\n",
    "|1|Polícia Militar|\n",
    "|2|Guarnição|\n",
    "|3|Reconhecimento|\n",
    "|4|Esquadrão de Cadetes|\n",
    "\n",
    "`R` - Membros\n",
    "\n",
    "|cod|tropa|nome|\n",
    "|---|-----|----|\n",
    "|1|2|Kitz Weilman|\n",
    "|2|3|Levi Ackerman|\n",
    "|3|2|Rico Brzenska|\n",
    "|4|-1|Annie Leonhart|\n",
    "|5|3|Jean Kirstein|\n",
    "|6|3|Armin Arlert|\n",
    "|7|-1|Reiner Braun|\n",
    "|8|1|Hitch Dreyse|"
   ]
  },
  {
   "cell_type": "code",
   "execution_count": 1,
   "metadata": {},
   "outputs": [
    {
     "name": "stdout",
     "output_type": "stream",
     "text": [
      "TABLE: default.tropas\n",
      "   +----+--------------------+\n",
      "   |cod |divisão             |\n",
      "   +----+--------------------+\n",
      "  0|   1|     Polícia Militar|\n",
      "  1|   2|           Guarnição|\n",
      "  2|   3|      Reconhecimento|\n",
      "  3|   4|Esquadrão de Cadetes|\n",
      "   +----+--------------------+\n",
      "\n",
      "TABLE: default.membros\n",
      "   +----+------+--------------+\n",
      "   |cod |tropa |nome          |\n",
      "   +----+------+--------------+\n",
      "  0|   1|     2|  Kitz Weilman|\n",
      "  1|   2|     3| Levi Ackerman|\n",
      "  2|   3|     2| Rico Brzenska|\n",
      "  3|   4|    -1|Annie Leonhart|\n",
      "  4|   5|     3| Jean Kirstein|\n",
      "  5|   6|     3|  Armin Arlert|\n",
      "  6|   7|    -1|  Reiner Braun|\n",
      "  7|   8|     1|  Hitch Dreyse|\n",
      "   +----+------+--------------+\n",
      "\n"
     ]
    }
   ],
   "source": [
    "# Declaração das Relações\n",
    "from csvms.table import Table\n",
    "\n",
    "tropas = Table(\n",
    "    name=\"tropas\",\n",
    "    columns={\n",
    "        \"cod\": int,\n",
    "        \"divisão\": str},\n",
    "    data=[\n",
    "        (1,'Polícia Militar'),\n",
    "        (2,'Guarnição'),\n",
    "        (3,'Reconhecimento'),\n",
    "        (4,'Esquadrão de Cadetes'),\n",
    "    ]\n",
    ")\n",
    "print(tropas)\n",
    "\n",
    "membros = Table(\n",
    "    name=\"membros\",\n",
    "    columns={\n",
    "        \"cod\": int,\n",
    "        \"tropa\": int,\n",
    "        \"nome\": str},\n",
    "    data=[\n",
    "        (1,2,'Kitz Weilman'),\n",
    "        (2,3,'Levi Ackerman'),\n",
    "        (3,2,'Rico Brzenska'),\n",
    "        (4,-1,'Annie Leonhart'),\n",
    "        (5,3,'Jean Kirstein'),\n",
    "        (6,3,'Armin Arlert'),\n",
    "        (7,-1,'Reiner Braun'),\n",
    "        (8,1,'Hitch Dreyse'),\n",
    "    ]\n",
    ")\n",
    "print(membros)"
   ]
  },
  {
   "cell_type": "markdown",
   "metadata": {},
   "source": [
    "## Natural\n",
    "\n",
    "O resultado da junção natural é uma tabela com todas as combinações das tuplas em R e S que seu atributos em comum são iguais."
   ]
  },
  {
   "cell_type": "markdown",
   "metadata": {},
   "source": [
    "### `×` Cruzada\n",
    "\n",
    "```sql\n",
    "SELECT * FROM membros R, tropas S WHERE R.tropa = S.cod\n",
    "```"
   ]
  },
  {
   "cell_type": "code",
   "execution_count": 2,
   "metadata": {},
   "outputs": [
    {
     "name": "stdout",
     "output_type": "stream",
     "text": [
      "TABLE: tmp.cross\n",
      "   +------------+--------------+-------------+-----------+---------------+\n",
      "   |membros.cod |membros.tropa |membros.nome |tropas.cod |tropas.divisão |\n",
      "   +------------+--------------+-------------+-----------+---------------+\n",
      "  0|           1|             2| Kitz Weilman|          2|      Guarnição|\n",
      "  1|           2|             3|Levi Ackerman|          3| Reconhecimento|\n",
      "  2|           3|             2|Rico Brzenska|          2|      Guarnição|\n",
      "  3|           5|             3|Jean Kirstein|          3| Reconhecimento|\n",
      "  4|           6|             3| Armin Arlert|          3| Reconhecimento|\n",
      "  5|           8|             1| Hitch Dreyse|          1|Polícia Militar|\n",
      "   +------------+--------------+-------------+-----------+---------------+\n",
      "\n"
     ]
    }
   ],
   "source": [
    "# cross join\n",
    "cross_cols = dict()\n",
    "cross_cols.update({f\"membros.{k}\":v for k,v in membros.columns.items()})\n",
    "cross_cols.update({f\"tropas.{k}\":v for k,v in tropas.columns.items()})\n",
    "cross_rows = list()\n",
    "\n",
    "for i, membro in enumerate(membros):\n",
    "    for j, tropa in enumerate(tropas):\n",
    "        if membros[i]['tropa']==tropas[j]['cod']:\n",
    "            cross_rows.append(membro+tropa)\n",
    "\n",
    "print(\n",
    "    Table(\n",
    "        name=\"tmp.cross\",\n",
    "        columns=cross_cols,\n",
    "        data=cross_rows\n",
    "    ).show(size=100,trunc=False)\n",
    ")"
   ]
  },
  {
   "cell_type": "markdown",
   "metadata": {},
   "source": [
    "### `⋈` Interna\n",
    "\n",
    "```sql\n",
    "SELECT * FROM membros R JOIN tropas S ON R.tropa = S.cod\n",
    "```"
   ]
  },
  {
   "cell_type": "code",
   "execution_count": 3,
   "metadata": {},
   "outputs": [
    {
     "name": "stdout",
     "output_type": "stream",
     "text": [
      "TABLE: tmp.inner\n",
      "   +------------+--------------+-------------+-----------+---------------+\n",
      "   |membros.cod |membros.tropa |membros.nome |tropas.cod |tropas.divisão |\n",
      "   +------------+--------------+-------------+-----------+---------------+\n",
      "  0|           1|             2| Kitz Weilman|          2|      Guarnição|\n",
      "  1|           2|             3|Levi Ackerman|          3| Reconhecimento|\n",
      "  2|           3|             2|Rico Brzenska|          2|      Guarnição|\n",
      "  3|           5|             3|Jean Kirstein|          3| Reconhecimento|\n",
      "  4|           6|             3| Armin Arlert|          3| Reconhecimento|\n",
      "  5|           8|             1| Hitch Dreyse|          1|Polícia Militar|\n",
      "   +------------+--------------+-------------+-----------+---------------+\n",
      "\n"
     ]
    }
   ],
   "source": [
    "# inner join\n",
    "inner_cols = dict()\n",
    "inner_cols.update({f\"membros.{k}\":v for k, v in membros.columns.items()})\n",
    "inner_cols.update({f\"tropas.{k}\":v for k, v in tropas.columns.items()})\n",
    "inner_rows = list()\n",
    "\n",
    "for membro in membros:\n",
    "    for tropa in tropas.σ({'eq':['cod',membro[1]]}):\n",
    "        inner_rows.append(membro + tropa)\n",
    "\n",
    "print(\n",
    "    Table(\n",
    "        name=\"tmp.inner\",\n",
    "        columns=inner_cols,\n",
    "        data=inner_rows\n",
    "    ).show(size=100,trunc=False)\n",
    ")"
   ]
  },
  {
   "cell_type": "markdown",
   "metadata": {},
   "source": [
    "## Externa\n",
    "\n",
    "O resultado do junção externa é o conjunto de todas as combinações das tuplas em R e S que seus atributos em comum são iguais , além disso, tuplas em R que não tem correspondência em S."
   ]
  },
  {
   "cell_type": "markdown",
   "metadata": {},
   "source": [
    "### `⟕` Esquerda\n",
    "\n",
    "```sql\n",
    "SELECT * FROM membros R LEFT JOIN tropas S ON R.tropa = S.cod\n",
    "```"
   ]
  },
  {
   "cell_type": "code",
   "execution_count": null,
   "metadata": {},
   "outputs": [],
   "source": [
    "# left outer join\n",
    "left_cols = dict()\n",
    "left_cols.update({f\"membros.{k}\":v for k, v in membros.columns.items()})\n",
    "left_cols.update({f\"tropas.{k}\":v for k, v in tropas.columns.items()})\n",
    "left_rows = list()\n",
    "for membro in membros:\n",
    "    for tropa in tropas.σ({'eq':['cod',membro[1]]},null=True):\n",
    "        left_rows.append(membro + tropa)\n",
    "print(\n",
    "    Table(\n",
    "        name=\"tmp.left\",\n",
    "        columns=left_cols,\n",
    "        data=left_rows\n",
    "    ).show(trunc=False)\n",
    ")\n"
   ]
  },
  {
   "cell_type": "code",
   "execution_count": 11,
   "metadata": {},
   "outputs": [
    {
     "name": "stdout",
     "output_type": "stream",
     "text": [
      "TABLE: default.((leftΠ)π)\n",
      "   +--------------+---------------+\n",
      "   |nome          |divisao        |\n",
      "   +--------------+---------------+\n",
      "  0|  Kitz Weilman|      Guarnição|\n",
      "  1| Levi Ackerman| Reconhecimento|\n",
      "  2| Rico Brzenska|      Guarnição|\n",
      "  3|Annie Leonhart|   desempregado|\n",
      "  4| Jean Kirstein| Reconhecimento|\n",
      "  5|  Armin Arlert| Reconhecimento|\n",
      "  6|  Reiner Braun|   desempregado|\n",
      "  7|  Hitch Dreyse|Polícia Militar|\n",
      "   +--------------+---------------+\n",
      "\n"
     ]
    }
   ],
   "source": [
    "# left with coalesce\n",
    "left_cols = dict()\n",
    "left_cols.update({f\"membros.{k}\":v for k, v in membros.columns.items()})\n",
    "left_cols.update({f\"tropas.{k}\":v for k, v in tropas.columns.items()})\n",
    "left_rows = list()\n",
    "for membro in membros:\n",
    "    for tropa in tropas.σ({'eq':['cod',membro[1]]},null=True):\n",
    "        left_rows.append(membro + tropa)\n",
    "print(\n",
    "    Table(\n",
    "        name=\"tmp.left\",\n",
    "        columns=left_cols,\n",
    "        data=left_rows)\n",
    "    .Π({'coalesce':['tropas.divisão','desempregado']},'divisao')\n",
    "    .π([{'value':'membros.nome'},{'value':'divisao'}])\n",
    ")\n"
   ]
  },
  {
   "cell_type": "markdown",
   "metadata": {},
   "source": [
    "### `⟖` Direita\n",
    "\n",
    "```sql\n",
    "SELECT * FROM membros R RIGHT JOIN tropas S ON R.tropa = S.cod\n",
    "```"
   ]
  },
  {
   "cell_type": "code",
   "execution_count": 12,
   "metadata": {},
   "outputs": [
    {
     "name": "stdout",
     "output_type": "stream",
     "text": [
      "TABLE: tmp.right\n",
      "   +------------+--------------+-------------+-----------+--------------------+\n",
      "   |membros.cod |membros.tropa |membros.nome |tropas.cod |tropas.divisão      |\n",
      "   +------------+--------------+-------------+-----------+--------------------+\n",
      "  0|           8|             1| Hitch Dreyse|          1|     Polícia Militar|\n",
      "  1|           1|             2| Kitz Weilman|          2|           Guarnição|\n",
      "  2|           3|             2|Rico Brzenska|          2|           Guarnição|\n",
      "  3|           2|             3|Levi Ackerman|          3|      Reconhecimento|\n",
      "  4|           5|             3|Jean Kirstein|          3|      Reconhecimento|\n",
      "  5|           6|             3| Armin Arlert|          3|      Reconhecimento|\n",
      "  6|        None|          None|         None|          4|Esquadrão de Cadetes|\n",
      "   +------------+--------------+-------------+-----------+--------------------+\n",
      "\n"
     ]
    }
   ],
   "source": [
    "# right outer join\n",
    "right_cols = dict()\n",
    "right_cols.update({f\"membros.{k}\":v for k, v in membros.columns.items()})\n",
    "right_cols.update({f\"tropas.{k}\":v for k, v in tropas.columns.items()})\n",
    "right_rows = list()\n",
    "for tropa in tropas:\n",
    "    for membro in membros.σ({'eq':['tropa',tropa[0]]}, null=True):\n",
    "        right_rows.append(membro + tropa)\n",
    "print(\n",
    "    Table(\n",
    "        name=\"tmp.right\",\n",
    "        columns=right_cols,\n",
    "        data=right_rows\n",
    "    ).show(trunc=False)\n",
    ")"
   ]
  },
  {
   "cell_type": "markdown",
   "metadata": {},
   "source": [
    "### `⟗` Completa\n",
    "\n",
    "```sql\n",
    "SELECT * FROM membros R FULL OUTER JOIN tropas S ON R.tropa = S.cod\n",
    "```"
   ]
  },
  {
   "cell_type": "code",
   "execution_count": 13,
   "metadata": {},
   "outputs": [
    {
     "name": "stdout",
     "output_type": "stream",
     "text": [
      "TABLE: tmp.full\n",
      "   +------------+--------------+--------------+-----------+--------------------+\n",
      "   |membros.cod |membros.tropa |membros.nome  |tropas.cod |tropas.divisão      |\n",
      "   +------------+--------------+--------------+-----------+--------------------+\n",
      "  0|           1|             2|  Kitz Weilman|          2|           Guarnição|\n",
      "  1|           2|             3| Levi Ackerman|          3|      Reconhecimento|\n",
      "  2|           3|             2| Rico Brzenska|          2|           Guarnição|\n",
      "  3|           4|            -1|Annie Leonhart|       None|                None|\n",
      "  4|           5|             3| Jean Kirstein|          3|      Reconhecimento|\n",
      "  5|           6|             3|  Armin Arlert|          3|      Reconhecimento|\n",
      "  6|           7|            -1|  Reiner Braun|       None|                None|\n",
      "  7|           8|             1|  Hitch Dreyse|          1|     Polícia Militar|\n",
      "  8|        None|          None|          None|          4|Esquadrão de Cadetes|\n",
      "   +------------+--------------+--------------+-----------+--------------------+\n",
      "\n"
     ]
    }
   ],
   "source": [
    "# full outer join\n",
    "full_cols = dict()\n",
    "full_cols.update({f\"membros.{k}\":v for k, v in membros.columns.items()})\n",
    "full_cols.update({f\"tropas.{k}\":v for k, v in tropas.columns.items()})\n",
    "\n",
    "full_rows = list()\n",
    "\n",
    "for membro in membros:\n",
    "    for tropa in tropas.σ({'eq':['cod',membro[1]]},null=True):\n",
    "        full_rows.append(membro + tropa)\n",
    "for tropa in tropas:\n",
    "    for membro in membros.σ({'eq':['tropa',tropa[0]]},null=True):\n",
    "        full_rows.append(membro + tropa)\n",
    "print(\n",
    "    Table(\n",
    "        name=\"tmp.full\",\n",
    "        columns=full_cols,\n",
    "        # Remove duplicates\n",
    "        data=list(dict.fromkeys(full_rows))\n",
    "    ).show(trunc=False)\n",
    ")\n"
   ]
  },
  {
   "cell_type": "markdown",
   "metadata": {},
   "source": [
    "## Semijunção\n",
    "O resultado da semijunção é o conjunto de todas as tuplas em R para o qual existe uma tupla em S que é igual em seus nomes de atributos comuns."
   ]
  },
  {
   "cell_type": "markdown",
   "metadata": {},
   "source": [
    "### `⋉` Esquerda\n",
    "\n",
    "```sql\n",
    "SELECT * FROM membros R LEFT SEMI JOIN tropas S ON R.tropa = S.cod\n",
    "```"
   ]
  },
  {
   "cell_type": "code",
   "execution_count": 14,
   "metadata": {},
   "outputs": [
    {
     "name": "stdout",
     "output_type": "stream",
     "text": [
      "TABLE: tmp.semi_left\n",
      "   +----+------+-------------+\n",
      "   |cod |tropa |nome         |\n",
      "   +----+------+-------------+\n",
      "  0|   1|     2| Kitz Weilman|\n",
      "  1|   2|     3|Levi Ackerman|\n",
      "  2|   3|     2|Rico Brzenska|\n",
      "  3|   5|     3|Jean Kirstein|\n",
      "  4|   6|     3| Armin Arlert|\n",
      "  5|   8|     1| Hitch Dreyse|\n",
      "   +----+------+-------------+\n",
      "\n"
     ]
    }
   ],
   "source": [
    "# semi left join\n",
    "semi_left_rows = list()\n",
    "for membro in membros:\n",
    "    for tropa in tropas.σ({'eq':['cod',membro[1]]}):\n",
    "        semi_left_rows.append(membro)\n",
    "print(\n",
    "    Table(\n",
    "        name=\"tmp.semi_left\",\n",
    "        columns=membros.columns,\n",
    "        data=semi_left_rows\n",
    "    ).show(trunc=False)\n",
    ")"
   ]
  },
  {
   "cell_type": "markdown",
   "metadata": {},
   "source": [
    "### `⋊` Direita\n",
    "\n",
    "```sql\n",
    "SELECT * FROM membros R RIGHT SEMI JOIN JOIN tropas S ON R.tropa = S.cod\n",
    "```"
   ]
  },
  {
   "cell_type": "code",
   "execution_count": 15,
   "metadata": {},
   "outputs": [
    {
     "name": "stdout",
     "output_type": "stream",
     "text": [
      "TABLE: tmp.semi_left\n",
      "   +----+---------------+\n",
      "   |cod |divisão        |\n",
      "   +----+---------------+\n",
      "  0|   2|      Guarnição|\n",
      "  1|   3| Reconhecimento|\n",
      "  2|   2|      Guarnição|\n",
      "  3|   3| Reconhecimento|\n",
      "  4|   3| Reconhecimento|\n",
      "  5|   1|Polícia Militar|\n",
      "   +----+---------------+\n",
      "\n"
     ]
    }
   ],
   "source": [
    "# semi right join\n",
    "semi_right_rows = list()\n",
    "for membro in membros:\n",
    "    for tropa in tropas.σ({'eq':['cod',membro[1]]}):\n",
    "        semi_right_rows.append(tropa)\n",
    "print(\n",
    "    Table(\n",
    "        name=\"tmp.semi_left\",\n",
    "        columns=tropas.columns,\n",
    "        data=semi_right_rows\n",
    "    ).show(trunc=False)\n",
    ")"
   ]
  },
  {
   "cell_type": "markdown",
   "metadata": {},
   "source": [
    "## Antijunção\n",
    "\n",
    "O resultado de uma antijunção é apenas aquelas tuplas em R para as quais NÃO existe uma tupla em S que possua os mesmos nomes de atributos."
   ]
  },
  {
   "cell_type": "markdown",
   "metadata": {},
   "source": [
    "### `▷` Esquerda\n",
    "\n",
    "```sql\n",
    "SELECT * FROM membros R LEFT ANTI JOIN tropas S ON R.tropa = S.cod\n",
    "```"
   ]
  },
  {
   "cell_type": "code",
   "execution_count": 16,
   "metadata": {},
   "outputs": [
    {
     "name": "stdout",
     "output_type": "stream",
     "text": [
      "TABLE: tmp.left_anti\n",
      "   +----+------+--------------+\n",
      "   |cod |tropa |nome          |\n",
      "   +----+------+--------------+\n",
      "  0|   4|    -1|Annie Leonhart|\n",
      "  1|   7|    -1|  Reiner Braun|\n",
      "   +----+------+--------------+\n",
      "\n"
     ]
    }
   ],
   "source": [
    "# anti left join\n",
    "left_anti_rows = list()\n",
    "for membro in membros:\n",
    "    for tropa in tropas.σ({'eq':['cod',membro[1]]},null=True):\n",
    "        if tropa[0] is None:\n",
    "            left_anti_rows.append(membro)\n",
    "print(\n",
    "    Table(\n",
    "        name=\"tmp.left_anti\",\n",
    "        columns=membros.columns,\n",
    "        data=left_anti_rows\n",
    "    ).show(trunc=False)\n",
    ")\n"
   ]
  },
  {
   "cell_type": "markdown",
   "metadata": {},
   "source": [
    "### `◁` Direita\n",
    "\n",
    "```sql\n",
    "SELECT * FROM tropas S RIGHT ANTI JOIN membros R ON R.tropa = S.cod\n",
    "```"
   ]
  },
  {
   "cell_type": "code",
   "execution_count": 17,
   "metadata": {},
   "outputs": [
    {
     "name": "stdout",
     "output_type": "stream",
     "text": [
      "TABLE: tmp.anti_right\n",
      "   +----+--------------------+\n",
      "   |cod |divisão             |\n",
      "   +----+--------------------+\n",
      "  0|   4|Esquadrão de Cadetes|\n",
      "   +----+--------------------+\n",
      "\n"
     ]
    }
   ],
   "source": [
    "# anti right join\n",
    "anti_right_rows = list()\n",
    "for tropa in tropas:\n",
    "    for membro in membros.σ({'eq':['tropa',tropa[0]]}, null=True):\n",
    "        if membro[1] is None:\n",
    "            anti_right_rows.append(tropa)\n",
    "print(\n",
    "    Table(\n",
    "        name=\"tmp.anti_right\",\n",
    "        columns=tropas.columns,\n",
    "        data=anti_right_rows\n",
    "    ).show(trunc=False)\n",
    ")\n"
   ]
  }
 ],
 "metadata": {
  "kernelspec": {
   "display_name": "Python 3.8.10 ('csvms-l4jZKfPM-py3.8')",
   "language": "python",
   "name": "python3"
  },
  "language_info": {
   "codemirror_mode": {
    "name": "ipython",
    "version": 3
   },
   "file_extension": ".py",
   "mimetype": "text/x-python",
   "name": "python",
   "nbconvert_exporter": "python",
   "pygments_lexer": "ipython3",
   "version": "3.8.10"
  },
  "orig_nbformat": 4,
  "vscode": {
   "interpreter": {
    "hash": "1a84bf26869892adb843eae20f10e89c204f3e1c57aed8fbbbb6e912b0386733"
   }
  }
 },
 "nbformat": 4,
 "nbformat_minor": 2
}
