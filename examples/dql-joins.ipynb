{
 "cells": [
  {
   "cell_type": "markdown",
   "metadata": {},
   "source": [
    "# Junções\n",
    "\n",
    "Existem diversas variedades da operação de junção. Porém, de longe a mais importante é a chamada junção natural, tanto que, o termo junção não qualificado é empregado invariavelmente para indicar de forma específica a junção natural."
   ]
  },
  {
   "cell_type": "markdown",
   "metadata": {},
   "source": [
    "#### Relações\n",
    "\n",
    "Para os exemplos a seguir, considere as seguintes relações\n",
    "\n",
    "`S` - Tropas\n",
    "\n",
    "|cod|divisão|\n",
    "|---|-------|\n",
    "|1|Polícia Militar|\n",
    "|2|Guarnição|\n",
    "|3|Reconhecimento|\n",
    "|4|Esquadrão de Cadetes|\n",
    "\n",
    "`R` - Membros\n",
    "\n",
    "|cod|tropa|nome|\n",
    "|---|-----|----|\n",
    "|1|2|Kitz Weilman|\n",
    "|2|3|Levi Ackerman|\n",
    "|3|2|Rico Brzenska|\n",
    "|4|-1|Annie Leonhart|\n",
    "|5|3|Jean Kirstein|\n",
    "|6|3|Armin Arlert|\n",
    "|7|-1|Reiner Braun|\n",
    "|8|1|Hitch Dreyse|"
   ]
  },
  {
   "cell_type": "code",
   "execution_count": 1,
   "metadata": {},
   "outputs": [],
   "source": [
    "# Declaração das Relações"
   ]
  },
  {
   "cell_type": "markdown",
   "metadata": {},
   "source": [
    "## Natural\n",
    "\n",
    "O resultado da junção natural é uma tabela com todas as combinações das tuplas em R e S que seu atributos em comum são iguais."
   ]
  },
  {
   "cell_type": "markdown",
   "metadata": {},
   "source": [
    "### `×` Cruzada\n",
    "\n",
    "```sql\n",
    "SELECT * FROM membros R, tropas S WHERE R.tropa = S.cod\n",
    "```"
   ]
  },
  {
   "cell_type": "code",
   "execution_count": 2,
   "metadata": {},
   "outputs": [],
   "source": [
    "# cross join"
   ]
  },
  {
   "cell_type": "markdown",
   "metadata": {},
   "source": [
    "### `⋈` Interna\n",
    "\n",
    "```sql\n",
    "SELECT * FROM membros R JOIN tropas S ON R.tropa = S.cod\n",
    "```"
   ]
  },
  {
   "cell_type": "code",
   "execution_count": 3,
   "metadata": {},
   "outputs": [],
   "source": [
    "# inner join"
   ]
  },
  {
   "cell_type": "markdown",
   "metadata": {},
   "source": [
    "## Externa\n",
    "\n",
    "O resultado do junção externa é o conjunto de todas as combinações das tuplas em R e S que seus atributos em comum são iguais , além disso, tuplas em R que não tem correspondência em S."
   ]
  },
  {
   "cell_type": "markdown",
   "metadata": {},
   "source": [
    "### `⟕` Esquerda\n",
    "\n",
    "```sql\n",
    "SELECT * FROM membros R LEFT JOIN tropas S ON R.tropa = S.cod\n",
    "```"
   ]
  },
  {
   "cell_type": "code",
   "execution_count": 4,
   "metadata": {},
   "outputs": [],
   "source": [
    "# left outer join"
   ]
  },
  {
   "cell_type": "markdown",
   "metadata": {},
   "source": [
    "### `⟖` Direita\n",
    "\n",
    "```sql\n",
    "SELECT * FROM membros R RIGHT JOIN tropas S ON R.tropa = S.cod\n",
    "```"
   ]
  },
  {
   "cell_type": "code",
   "execution_count": 5,
   "metadata": {},
   "outputs": [],
   "source": [
    "# right outer join"
   ]
  },
  {
   "cell_type": "markdown",
   "metadata": {},
   "source": [
    "### `⟗` Completa\n",
    "\n",
    "```sql\n",
    "SELECT * FROM membros R FULL OUTER JOIN tropas S ON R.tropa = S.cod\n",
    "```"
   ]
  },
  {
   "cell_type": "code",
   "execution_count": 6,
   "metadata": {},
   "outputs": [],
   "source": [
    "# full outer join"
   ]
  },
  {
   "cell_type": "markdown",
   "metadata": {},
   "source": [
    "## Semijunção\n",
    "O resultado da semijunção é o conjunto de todas as tuplas em R para o qual existe uma tupla em S que é igual em seus nomes de atributos comuns."
   ]
  },
  {
   "cell_type": "markdown",
   "metadata": {},
   "source": [
    "### `⋉` Esquerda\n",
    "\n",
    "```sql\n",
    "SELECT * FROM membros R LEFT SEMI JOIN JOIN tropas S ON R.tropa = S.cod\n",
    "```"
   ]
  },
  {
   "cell_type": "code",
   "execution_count": 10,
   "metadata": {},
   "outputs": [],
   "source": [
    "# semi left join"
   ]
  },
  {
   "cell_type": "markdown",
   "metadata": {},
   "source": [
    "### `⋊` Direita\n",
    "\n",
    "```sql\n",
    "SELECT * FROM membros R RIGHT SEMI JOIN JOIN tropas S ON R.tropa = S.cod\n",
    "```"
   ]
  },
  {
   "cell_type": "code",
   "execution_count": 11,
   "metadata": {},
   "outputs": [],
   "source": [
    "# semi right join"
   ]
  },
  {
   "cell_type": "markdown",
   "metadata": {},
   "source": [
    "## Antijunção\n",
    "\n",
    "O resultado de uma antijunção é apenas aquelas tuplas em R para as quais NÃO existe uma tupla em S que possua os mesmos nomes de atributos."
   ]
  },
  {
   "cell_type": "markdown",
   "metadata": {},
   "source": [
    "### `▷` Esquerda\n",
    "\n",
    "```sql\n",
    "SELECT * FROM membros R LEFT ANTI JOIN tropas S ON R.tropa = S.cod\n",
    "```"
   ]
  },
  {
   "cell_type": "code",
   "execution_count": 7,
   "metadata": {},
   "outputs": [],
   "source": [
    "# anti left join"
   ]
  },
  {
   "cell_type": "markdown",
   "metadata": {},
   "source": [
    "### `◁` Direita\n",
    "\n",
    "```sql\n",
    "SELECT * FROM tropas S RIGHT ANTI JOIN membros R ON R.tropa = S.cod\n",
    "```"
   ]
  },
  {
   "cell_type": "code",
   "execution_count": 8,
   "metadata": {},
   "outputs": [],
   "source": [
    "# anti right join"
   ]
  }
 ],
 "metadata": {
  "kernelspec": {
   "display_name": "Python 3.8.10 ('csvms-l4jZKfPM-py3.8')",
   "language": "python",
   "name": "python3"
  },
  "language_info": {
   "codemirror_mode": {
    "name": "ipython",
    "version": 3
   },
   "file_extension": ".py",
   "mimetype": "text/x-python",
   "name": "python",
   "nbconvert_exporter": "python",
   "pygments_lexer": "ipython3",
   "version": "3.8.10"
  },
  "orig_nbformat": 4,
  "vscode": {
   "interpreter": {
    "hash": "1a84bf26869892adb843eae20f10e89c204f3e1c57aed8fbbbb6e912b0386733"
   }
  }
 },
 "nbformat": 4,
 "nbformat_minor": 2
}
