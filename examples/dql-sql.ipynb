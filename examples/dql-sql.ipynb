{
 "cells": [
  {
   "cell_type": "code",
   "execution_count": 1,
   "metadata": {},
   "outputs": [
    {
     "name": "stderr",
     "output_type": "stream",
     "text": [
      "2022-07-14 10:47:38,399: Database initiated\n"
     ]
    }
   ],
   "source": [
    "import cli_csvms.engine"
   ]
  },
  {
   "cell_type": "code",
   "execution_count": 2,
   "metadata": {
    "vscode": {
     "languageId": "sql"
    }
   },
   "outputs": [
    {
     "name": "stderr",
     "output_type": "stream",
     "text": [
      "2022-07-14 10:47:38,558: creating new data dictionary in data/catalog.json\n",
      "2022-07-14 10:47:38,580: Table lista_frutas was created\n",
      "2022-07-14 10:47:38,591: Row ('banana', 'doce') inserted\n",
      "2022-07-14 10:47:38,592: Rows inserted: 1\n",
      "2022-07-14 10:47:38,595: Row ('limão', 'amargo') inserted\n",
      "2022-07-14 10:47:38,596: Rows inserted: 1\n",
      "2022-07-14 10:47:38,598: Row ('mexerica', 'doce') inserted\n",
      "2022-07-14 10:47:38,599: Rows inserted: 1\n",
      "2022-07-14 10:47:38,601: Row ('maçã', 'doce') inserted\n",
      "2022-07-14 10:47:38,601: Rows inserted: 1\n",
      "2022-07-14 10:47:38,604: Row 2 updated with values ('bergamota', 'azedo')\n",
      "2022-07-14 10:47:38,605: Rows updated: 1\n",
      "2022-07-14 10:47:38,623: Table tipo_frutas was created\n",
      "2022-07-14 10:47:38,635: Row ('doce', 1.5) inserted\n",
      "2022-07-14 10:47:38,636: Rows inserted: 1\n",
      "2022-07-14 10:47:38,640: Row ('azedo', 2.3) inserted\n",
      "2022-07-14 10:47:38,642: Rows inserted: 1\n",
      "2022-07-14 10:47:38,644: Row ('amargo', 2.0) inserted\n",
      "2022-07-14 10:47:38,645: Rows inserted: 1\n",
      "2022-07-14 10:47:38,652: Row 1 updated with values ('azedo', 2.5)\n",
      "2022-07-14 10:47:38,653: Rows updated: 1\n",
      "2022-07-14 10:47:38,675: Table venda_frutas was created\n",
      "2022-07-14 10:47:38,685: Row (1, 'banana', 10) inserted\n",
      "2022-07-14 10:47:38,686: Rows inserted: 1\n",
      "2022-07-14 10:47:38,688: Row (2, 'banana', 12) inserted\n",
      "2022-07-14 10:47:38,689: Rows inserted: 1\n",
      "2022-07-14 10:47:38,692: Row (3, 'limão', 5) inserted\n",
      "2022-07-14 10:47:38,693: Rows inserted: 1\n",
      "2022-07-14 10:47:38,696: Row (4, 'banana', 8) inserted\n",
      "2022-07-14 10:47:38,697: Rows inserted: 1\n",
      "2022-07-14 10:47:38,699: Row (5, 'limão', 8) inserted\n",
      "2022-07-14 10:47:38,700: Rows inserted: 1\n",
      "2022-07-14 10:47:38,702: Row 1 updated with values ('limão', 'azedo')\n",
      "2022-07-14 10:47:38,703: Rows updated: 1\n",
      "2022-07-14 10:47:38,704: Row ('bergamota', 'azedo') deleted\n",
      "2022-07-14 10:47:38,705: Rows deleted: 1\n",
      "2022-07-14 10:47:38,707: Row 2 updated with values (3, 'limão', 20)\n",
      "2022-07-14 10:47:38,707: Rows updated: 1\n",
      "2022-07-14 10:47:38,748: Executed successfully\n"
     ]
    }
   ],
   "source": [
    "%%sql\n",
    "-- Frutas\n",
    "CREATE TABLE lista_frutas (\n",
    "    nm_fruta TEXT ,\n",
    "    tp_fruta TEXT )\n",
    ";\n",
    "INSERT INTO lista_frutas VALUES ('banana','doce');\n",
    "INSERT INTO lista_frutas VALUES ('limão','amargo');\n",
    "INSERT INTO lista_frutas VALUES ('mexerica','doce');\n",
    "INSERT INTO lista_frutas VALUES ('maçã','doce');\n",
    "\n",
    "-- Corrige o cadastro\n",
    "UPDATE lista_frutas\n",
    "   SET nm_fruta = 'bergamota'\n",
    "     , tp_fruta = 'azedo'\n",
    " WHERE nm_fruta = 'mexerica';\n",
    "\n",
    "-- Tipos\n",
    "CREATE TABLE tipo_frutas (\n",
    "    tp_fruta TEXT,\n",
    "    vl_fruta FLOAT);\n",
    "\n",
    "INSERT INTO tipo_frutas VALUES ('doce',1.5);\n",
    "INSERT INTO tipo_frutas VALUES ('azedo',2.3);\n",
    "INSERT INTO tipo_frutas VALUES ('amargo',2.0);\n",
    "\n",
    "-- Atualiza o valor das frutas azedas\n",
    "UPDATE tipo_frutas\n",
    "   SET vl_fruta = 2.5\n",
    " WHERE tp_fruta = 'azedo';\n",
    "\n",
    "-- Vendas\n",
    "CREATE TABLE venda_frutas (\n",
    "    cod_venda INTEGER,\n",
    "    nm_fruta TEXT,\n",
    "    qtd_venda INTEGER);\n",
    "INSERT INTO venda_frutas VALUES (1,'banana',10);\n",
    "INSERT INTO venda_frutas VALUES (2,'banana',12);\n",
    "INSERT INTO venda_frutas VALUES (3,'limão',5);\n",
    "INSERT INTO venda_frutas VALUES (4,'banana',8);\n",
    "INSERT INTO venda_frutas VALUES (5,'limão',8);\n",
    "\n",
    "-- Altera o tipo da fruta 'limão' para 'azedo'\n",
    "UPDATE lista_frutas\n",
    "   SET tp_fruta = 'azedo'\n",
    " WHERE nm_fruta = 'limão';\n",
    "\n",
    "-- Remove a 'bergamota' da lista de frutas :(\n",
    "DELETE FROM lista_frutas \n",
    " WHERE nm_fruta = 'bergamota';\n",
    "\n",
    "-- Altera a quantidade vendida da venda 3 para 20\n",
    "UPDATE venda_frutas\n",
    "   SET qtd_venda = 20\n",
    " WHERE cod_venda = 3;\n",
    "\n",
    "-- Salva todas as alterações\n",
    "COMMIT;\n"
   ]
  },
  {
   "cell_type": "markdown",
   "metadata": {},
   "source": [
    "# Motor de Consultas\n",
    "\n",
    "As consultas a seguir tem seu resultado obtido a partir do banco de dados definido pelo arquivo [frutas.sql](../sql/frutas.sql)"
   ]
  },
  {
   "cell_type": "markdown",
   "metadata": {},
   "source": [
    "A partir da última implementação.\n",
    "Mostrar todos os registros da tabela `lista_frutas`"
   ]
  },
  {
   "cell_type": "code",
   "execution_count": 3,
   "metadata": {
    "vscode": {
     "languageId": "sql"
    }
   },
   "outputs": [
    {
     "name": "stderr",
     "output_type": "stream",
     "text": [
      "2022-07-14 10:47:38,827: TABLE: default.lista_frutas\n",
      "   +---------+---------+\n",
      "   |nm_fruta |tp_fruta |\n",
      "   +---------+---------+\n",
      "  0|   banana|     doce|\n",
      "  1|    limão|    azedo|\n",
      "  2|     maçã|     doce|\n",
      "   +---------+---------+\n",
      "\n"
     ]
    }
   ],
   "source": [
    "%%sql\n",
    "SELECT * FROM lista_frutas"
   ]
  },
  {
   "cell_type": "markdown",
   "metadata": {},
   "source": [
    "Recuperar o valor unitário de cada fruta"
   ]
  },
  {
   "cell_type": "code",
   "execution_count": 4,
   "metadata": {
    "vscode": {
     "languageId": "sql"
    }
   },
   "outputs": [
    {
     "name": "stderr",
     "output_type": "stream",
     "text": [
      "2022-07-14 10:47:38,951: TABLE: default.(((l×t)σ)π)\n",
      "   +------+------+\n",
      "   |fruta |valor |\n",
      "   +------+------+\n",
      "  0|banana|   1.5|\n",
      "  1| limão|   2.5|\n",
      "  2|  maçã|   1.5|\n",
      "   +------+------+\n",
      "\n"
     ]
    }
   ],
   "source": [
    "%%sql\n",
    "SELECT l.nm_fruta AS fruta\n",
    "     , t.vl_fruta AS valor\n",
    "  FROM lista_frutas l\n",
    "     , tipo_frutas t\n",
    " WHERE l.tp_fruta = t.tp_fruta"
   ]
  },
  {
   "cell_type": "markdown",
   "metadata": {},
   "source": [
    "Mostrar o tipo das frutas vendidas"
   ]
  },
  {
   "cell_type": "code",
   "execution_count": 5,
   "metadata": {
    "vscode": {
     "languageId": "sql"
    }
   },
   "outputs": [
    {
     "name": "stderr",
     "output_type": "stream",
     "text": [
      "2022-07-14 10:47:39,050: TABLE: default.((v⋈l)π)\n",
      "   +------------+-----------+\n",
      "   |cod_venda   |tp_fruta   |\n",
      "   +------------+-----------+\n",
      "  0|           1|       doce|\n",
      "  1|           2|       doce|\n",
      "  2|           3|      azedo|\n",
      "  3|           4|       doce|\n",
      "  4|           5|      azedo|\n",
      "   +------------+-----------+\n",
      "\n"
     ]
    }
   ],
   "source": [
    "%%sql\n",
    "SELECT v.cod_venda\n",
    "     , l.tp_fruta\n",
    "  FROM venda_frutas v\n",
    "  INNER JOIN lista_frutas l ON v.nm_fruta = l.nm_fruta"
   ]
  },
  {
   "cell_type": "markdown",
   "metadata": {},
   "source": [
    "Mostrar o valor total de cada venda"
   ]
  },
  {
   "cell_type": "code",
   "execution_count": 6,
   "metadata": {
    "vscode": {
     "languageId": "sql"
    }
   },
   "outputs": [
    {
     "name": "stderr",
     "output_type": "stream",
     "text": [
      "2022-07-14 10:47:39,257: TABLE: default.((((v⋈l)⋈t)Π)π)\n",
      "   +------------+-----------+------------+-----------+------+\n",
      "   |cod_venda   |nm_fruta   |qtd_venda   |vl_fruta   |total |\n",
      "   +------------+-----------+------------+-----------+------+\n",
      "  0|           1|     banana|          10|        1.5|  15.0|\n",
      "  1|           2|     banana|          12|        1.5|  18.0|\n",
      "  2|           3|      limão|          20|        2.5|  50.0|\n",
      "  3|           4|     banana|           8|        1.5|  12.0|\n",
      "  4|           5|      limão|           8|        2.5|  20.0|\n",
      "   +------------+-----------+------------+-----------+------+\n",
      "\n"
     ]
    }
   ],
   "source": [
    "%%sql\n",
    "SELECT v.cod_venda\n",
    "     , l.nm_fruta\n",
    "     , v.qtd_venda\n",
    "     , t.vl_fruta\n",
    "     , t.vl_fruta * v.qtd_venda as total\n",
    "  FROM venda_frutas v\n",
    "  INNER JOIN lista_frutas l ON v.nm_fruta = l.nm_fruta\n",
    "  INNER JOIN tipo_frutas t ON l.tp_fruta = t.tp_fruta\n"
   ]
  },
  {
   "cell_type": "markdown",
   "metadata": {},
   "source": [
    "Mostrar os tipos que não possuem frutas"
   ]
  },
  {
   "cell_type": "code",
   "execution_count": 7,
   "metadata": {
    "vscode": {
     "languageId": "sql"
    }
   },
   "outputs": [
    {
     "name": "stderr",
     "output_type": "stream",
     "text": [
      "2022-07-14 10:47:39,354: TABLE: default.(((l⟖t)σ)π)\n",
      "   +-----------------+\n",
      "   |tipos sem frutas |\n",
      "   +-----------------+\n",
      "  0|           amargo|\n",
      "   +-----------------+\n",
      "\n"
     ]
    }
   ],
   "source": [
    "%%sql\n",
    "SELECT t.tp_fruta `tipos sem frutas`\n",
    "  FROM lista_frutas l\n",
    " RIGHT JOIN tipo_frutas t ON t.tp_fruta = l.tp_fruta\n",
    " WHERE l.tp_fruta is null"
   ]
  },
  {
   "cell_type": "markdown",
   "metadata": {},
   "source": [
    "Mostrar as frutas com vendas inferiores a 20"
   ]
  },
  {
   "cell_type": "code",
   "execution_count": 8,
   "metadata": {
    "vscode": {
     "languageId": "sql"
    }
   },
   "outputs": [
    {
     "name": "stderr",
     "output_type": "stream",
     "text": [
      "2022-07-14 10:47:39,504: TABLE: default.(((f⟕c)σ)π)\n",
      "   +--------------------+\n",
      "   |Frutas não vendidas |\n",
      "   +--------------------+\n",
      "  0|              banana|\n",
      "  1|                maçã|\n",
      "   +--------------------+\n",
      "\n"
     ]
    }
   ],
   "source": [
    "%%sql\n",
    "SELECT DISTINCT f.nm_fruta AS \"Frutas não vendidas\"\n",
    "  FROM lista_frutas f\n",
    "  LEFT JOIN (\n",
    "SELECT v.nm_fruta\n",
    "     , p.vl_fruta * v.qtd_venda as total\n",
    "  FROM venda_frutas v\n",
    "  INNER JOIN lista_frutas l ON v.nm_fruta = l.nm_fruta\n",
    "  INNER JOIN tipo_frutas p ON l.tp_fruta = p.tp_fruta) c ON f.nm_fruta = c.nm_fruta\n",
    "  WHERE c.total < 20 \n",
    "     OR c.total IS NULL"
   ]
  }
 ],
 "metadata": {
  "kernelspec": {
   "display_name": "Python 3.9.13 ('cli-csvms-Z182T5DT-py3.9')",
   "language": "python",
   "name": "python3"
  },
  "language_info": {
   "codemirror_mode": {
    "name": "ipython",
    "version": 3
   },
   "file_extension": ".py",
   "mimetype": "text/x-python",
   "name": "python",
   "nbconvert_exporter": "python",
   "pygments_lexer": "ipython3",
   "version": "3.9.13"
  },
  "orig_nbformat": 4,
  "vscode": {
   "interpreter": {
    "hash": "3198ec9fb16b7beec8f9bd6100edaca4f76c42d0641b5fbd231a2d91fa55e089"
   }
  }
 },
 "nbformat": 4,
 "nbformat_minor": 2
}
