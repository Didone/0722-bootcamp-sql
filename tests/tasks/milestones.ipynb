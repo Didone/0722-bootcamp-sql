{
 "cells": [
  {
   "cell_type": "markdown",
   "metadata": {},
   "source": [
    "## Dia 1"
   ]
  },
  {
   "cell_type": "markdown",
   "metadata": {},
   "source": [
    "### Criação"
   ]
  },
  {
   "cell_type": "code",
   "execution_count": 1,
   "metadata": {},
   "outputs": [
    {
     "name": "stderr",
     "output_type": "stream",
     "text": [
      "2022-11-07 14:37:03,058: creating new data dictionary in data/catalog.json\n"
     ]
    },
    {
     "name": "stdout",
     "output_type": "stream",
     "text": [
      "A Tabela lista_frutas foi criada com sucesso!\n",
      "\n",
      "A Tabela tipo_frutas foi criada com sucesso!\n",
      "\n"
     ]
    }
   ],
   "source": [
    "from csvms.engine import Engine\n",
    "# Ao executar o SQL uma nova tabela deve ser criada, de acordo com a especificação\n",
    "Engine().execute(\"\"\"CREATE TABLE lista_frutas (nm_fruta TEXT, tp_fruta TEXT)\"\"\") \n",
    "Engine().execute(\"\"\"CREATE TABLE tipo_frutas (tp_fruta TEXT,vl_fruta FLOAT)\"\"\") "
   ]
  },
  {
   "cell_type": "markdown",
   "metadata": {},
   "source": [
    "### Inclusão"
   ]
  },
  {
   "cell_type": "code",
   "execution_count": 3,
   "metadata": {},
   "outputs": [
    {
     "name": "stdout",
     "output_type": "stream",
     "text": [
      "Resgistros inseridos com sucesso!\n",
      "\n"
     ]
    }
   ],
   "source": [
    "from csvms.engine import Engine\n",
    "# Ao executar o SQL as quatro linhas devem ser inseridas na tabela lista_frutas\n",
    "Engine().execute(\"\"\"INSERT INTO lista_frutas VALUES ('banana','doce');\n",
    "                    INSERT INTO lista_frutas VALUES ('limão','amargo');\n",
    "                    INSERT INTO lista_frutas VALUES ('bergamota','azedo');\n",
    "                    INSERT INTO lista_frutas VALUES ('maçã','doce');COMMIT;\"\"\") "
   ]
  },
  {
   "cell_type": "markdown",
   "metadata": {},
   "source": [
    "### Atualização"
   ]
  },
  {
   "cell_type": "code",
   "execution_count": 4,
   "metadata": {},
   "outputs": [
    {
     "name": "stdout",
     "output_type": "stream",
     "text": [
      "Resgistros inseridos com sucesso!\n",
      "\n",
      "A Tabela lista_frutas foi atualizada com sucesso!\n",
      "\n"
     ]
    }
   ],
   "source": [
    "from csvms.engine import Engine\n",
    "# Ao executar o SQL os valores devem ser atualizados\n",
    "Engine().execute(\"\"\"UPDATE lista_frutas SET tp_fruta = 'azedo' WHERE nm_fruta = 'limão';COMMIT;\"\"\") "
   ]
  },
  {
   "cell_type": "markdown",
   "metadata": {},
   "source": [
    "### Deleção"
   ]
  },
  {
   "cell_type": "code",
   "execution_count": 5,
   "metadata": {},
   "outputs": [
    {
     "name": "stdout",
     "output_type": "stream",
     "text": [
      "Resgistros inseridos com sucesso!\n",
      "\n",
      "O registro solicitado foi excluido de lista_frutas com sucesso!\n",
      "\n"
     ]
    }
   ],
   "source": [
    "from csvms.engine import Engine\n",
    "# Ao executar o SQL os valores devem ser removidos\n",
    "Engine().execute(\"\"\"DELETE FROM lista_frutas WHERE nm_fruta = 'limão';COMMIT;\"\"\") "
   ]
  },
  {
   "cell_type": "markdown",
   "metadata": {},
   "source": [
    "### Inserção"
   ]
  },
  {
   "cell_type": "code",
   "execution_count": 5,
   "metadata": {},
   "outputs": [
    {
     "name": "stdout",
     "output_type": "stream",
     "text": [
      "Resgistros inseridos com sucesso!\n",
      "\n"
     ]
    }
   ],
   "source": [
    "from csvms.engine import Engine\n",
    "# Ao executar o SQL as quatro linhas devem ser inseridas na tabela tipo_frutas \n",
    "Engine().execute(\"\"\"INSERT INTO tipo_frutas VALUES ('doce',1.5);\n",
    "                    INSERT INTO tipo_frutas VALUES ('amargo',2.0);COMMIT;\"\"\")"
   ]
  },
  {
   "cell_type": "markdown",
   "metadata": {},
   "source": [
    "### Lotes"
   ]
  },
  {
   "cell_type": "code",
   "execution_count": 1,
   "metadata": {},
   "outputs": [
    {
     "name": "stdout",
     "output_type": "stream",
     "text": [
      "Arquivo encontrado e processado.\n",
      "\n"
     ]
    },
    {
     "name": "stderr",
     "output_type": "stream",
     "text": [
      "2022-11-17 15:31:28,034: creating new data dictionary in data/catalog.json\n"
     ]
    },
    {
     "name": "stdout",
     "output_type": "stream",
     "text": [
      "A Tabela lista_frutas foi criada com sucesso!\n",
      "\n",
      "A Tabela tipo_frutas foi criada com sucesso!\n",
      "\n",
      "A Tabela venda_frutas foi criada com sucesso!\n",
      "\n",
      "Resgistros inseridos com sucesso!\n",
      "\n",
      "A Tabela lista_frutas foi atualizada com sucesso!\n",
      "\n",
      "A Tabela tipo_frutas foi atualizada com sucesso!\n",
      "\n",
      "A Tabela lista_frutas foi atualizada com sucesso!\n",
      "\n",
      "A Tabela venda_frutas foi atualizada com sucesso!\n",
      "\n",
      "O registro solicitado foi excluido de lista_frutas com sucesso!\n",
      "\n",
      "None\n"
     ]
    }
   ],
   "source": [
    "from csvms.engine import Engine\n",
    "import os\n",
    "import shutil\n",
    "\n",
    "if os.path.exists(os.getcwd() + \"/data\"):\n",
    "    path = os.getcwd() + \"/data\"\n",
    "    shutil.rmtree(path)\n",
    "\n",
    "sql_lotes = Engine().sql_file_recovering('sql_data')\n",
    "\n",
    "print(sql_lotes)"
   ]
  },
  {
   "cell_type": "markdown",
   "metadata": {},
   "source": [
    "## Dia 2"
   ]
  },
  {
   "cell_type": "markdown",
   "metadata": {},
   "source": [
    "### Concatenação"
   ]
  },
  {
   "cell_type": "code",
   "execution_count": 2,
   "metadata": {},
   "outputs": [
    {
     "name": "stdout",
     "output_type": "stream",
     "text": [
      "TABLE: default.(lista_frutasΠ)\n",
      "   +---------+---------+-----------------------------------+\n",
      "   |nm_fruta |tp_fruta |{'concat':['nm_fruta','tp_fruta']} |\n",
      "   +---------+---------+-----------------------------------+\n",
      "  0|   banana|     doce|                         bananadoce|\n",
      "  1|    limão|    azedo|                         limãoazedo|\n",
      "  2|     maçã|     doce|                           maçãdoce|\n",
      "   +---------+---------+-----------------------------------+\n",
      "\n"
     ]
    }
   ],
   "source": [
    "from csvms.table import Table\n",
    "\n",
    "A = Table(name=\"lista_frutas\").Π({'concat':['nm_fruta','tp_fruta']})\n",
    "print(A)"
   ]
  },
  {
   "cell_type": "markdown",
   "metadata": {},
   "source": [
    "### Exponenciação"
   ]
  },
  {
   "cell_type": "code",
   "execution_count": 3,
   "metadata": {},
   "outputs": [
    {
     "name": "stdout",
     "output_type": "stream",
     "text": [
      "TABLE: default.(lista_frutasΠ)\n",
      "   +---------+---------+--------------+\n",
      "   |nm_fruta |tp_fruta |{'pow':[2,4]} |\n",
      "   +---------+---------+--------------+\n",
      "  0|   banana|     doce|            16|\n",
      "  1|    limão|    azedo|            16|\n",
      "  2|     maçã|     doce|            16|\n",
      "   +---------+---------+--------------+\n",
      "\n"
     ]
    }
   ],
   "source": [
    "from csvms.table import Table\n",
    "\n",
    "A = Table(name=\"lista_frutas\").Π({'pow':[2,4]})\n",
    "print(A)"
   ]
  },
  {
   "cell_type": "markdown",
   "metadata": {},
   "source": [
    "### Junção Externa Esquerda"
   ]
  },
  {
   "cell_type": "code",
   "execution_count": 4,
   "metadata": {},
   "outputs": [
    {
     "name": "stdout",
     "output_type": "stream",
     "text": [
      "TABLE: default.(lista_frutas⟕tipo_frutas)\n",
      "   +----------------------+----------------------+---------------------+---------------------+\n",
      "   |nm_fruta              |tp_fruta              |tp_fruta             |vl_fruta             |\n",
      "   +----------------------+----------------------+---------------------+---------------------+\n",
      "  0|                banana|                  doce|                 doce|                  1.5|\n",
      "  1|                 limão|                 azedo|                azedo|                  2.5|\n",
      "  2|                  maçã|                  doce|                 doce|                  1.5|\n",
      "   +----------------------+----------------------+---------------------+---------------------+\n",
      "\n"
     ]
    }
   ],
   "source": [
    "from csvms.table import Table\n",
    "tbl = Table('lista_frutas').ᗌᐊ(Table('tipo_frutas'), where={'eq':['lista_frutas.tp_fruta','tipo_frutas.tp_fruta']})\n",
    "print(tbl)"
   ]
  },
  {
   "cell_type": "markdown",
   "metadata": {},
   "source": [
    "### Junção Externa Direita"
   ]
  },
  {
   "cell_type": "code",
   "execution_count": 5,
   "metadata": {},
   "outputs": [
    {
     "name": "stdout",
     "output_type": "stream",
     "text": [
      "TABLE: default.(lista_frutas⟖tipo_frutas)\n",
      "   +----------------------+----------------------+---------------------+---------------------+\n",
      "   |nm_fruta              |tp_fruta              |tp_fruta             |vl_fruta             |\n",
      "   +----------------------+----------------------+---------------------+---------------------+\n",
      "  0|                banana|                  doce|                 doce|                  1.5|\n",
      "  1|                 limão|                 azedo|                azedo|                  2.5|\n",
      "  2|                  maçã|                  doce|                 doce|                  1.5|\n",
      "  3|                  None|                  None|               amargo|                  2.0|\n",
      "   +----------------------+----------------------+---------------------+---------------------+\n",
      "\n"
     ]
    }
   ],
   "source": [
    "from csvms.table import Table\n",
    "tbl = Table('lista_frutas').ᐅᗏ(Table('tipo_frutas'), where={'eq':['lista_frutas.tp_fruta','tipo_frutas.tp_fruta']})\n",
    "print(tbl)"
   ]
  },
  {
   "cell_type": "markdown",
   "metadata": {},
   "source": [
    "### Junção Externa Completa"
   ]
  },
  {
   "cell_type": "code",
   "execution_count": null,
   "metadata": {},
   "outputs": [],
   "source": [
    "from csvms.table import Table\n",
    "tbl = Table('lista_frutas').ᗌᗏ(Table('tipo_frutas'), where={'eq':['lista_frutas.tp_fruta','tipo_frutas.tp_fruta']})\n",
    "print(tbl)"
   ]
  },
  {
   "cell_type": "markdown",
   "metadata": {},
   "source": [
    "###  Semijunção Esquerda"
   ]
  },
  {
   "cell_type": "code",
   "execution_count": null,
   "metadata": {},
   "outputs": [],
   "source": [
    "from csvms.table import Table\n",
    "tbl = Table('lista_frutas').ᐅᐸ(Table('tipo_frutas'), where={'eq':['lista_frutas.tp_fruta','tipo_frutas.tp_fruta']})\n",
    "print(tbl)"
   ]
  },
  {
   "cell_type": "markdown",
   "metadata": {},
   "source": [
    "### Semijunção Direita"
   ]
  },
  {
   "cell_type": "code",
   "execution_count": null,
   "metadata": {},
   "outputs": [],
   "source": [
    "from csvms.table import Table\n",
    "tbl = Table('lista_frutas').ᐳᐊ(Table('tipo_frutas'), where={'eq':['lista_frutas.tp_fruta','tipo_frutas.tp_fruta']})\n",
    "print(tbl)"
   ]
  },
  {
   "cell_type": "markdown",
   "metadata": {},
   "source": [
    "### Antijunção Esquerda"
   ]
  },
  {
   "cell_type": "code",
   "execution_count": null,
   "metadata": {},
   "outputs": [],
   "source": [
    "from csvms.table import Table\n",
    "tbl = Table('lista_frutas').ᐅ(Table('tipo_frutas'), where={'eq':['lista_frutas.tp_fruta','tipo_frutas.tp_fruta']})\n",
    "print(tbl)"
   ]
  },
  {
   "cell_type": "markdown",
   "metadata": {},
   "source": [
    "### Antijunção Direita"
   ]
  },
  {
   "cell_type": "code",
   "execution_count": null,
   "metadata": {},
   "outputs": [],
   "source": [
    "from csvms.table import Table\n",
    "tbl = Table('lista_frutas').ᐊ(Table('tipo_frutas'), where={'eq':['lista_frutas.tp_fruta','tipo_frutas.tp_fruta']})\n",
    "print(tbl)"
   ]
  },
  {
   "cell_type": "markdown",
   "metadata": {},
   "source": [
    "## Dia 3"
   ]
  },
  {
   "cell_type": "markdown",
   "metadata": {},
   "source": [
    "### Seleção"
   ]
  },
  {
   "cell_type": "code",
   "execution_count": 1,
   "metadata": {},
   "outputs": [
    {
     "name": "stdout",
     "output_type": "stream",
     "text": [
      " +----------+---------+----------+\n",
      " |cod_venda |nm_fruta |qtd_venda |\n",
      " +----------+---------+----------+\n",
      "0|         1|   banana|        10|\n",
      "1|         2|   banana|        12|\n",
      "2|         3|    limão|        20|\n",
      "3|         4|   banana|         8|\n",
      "4|         5|    limão|         8|\n",
      " +----------+---------+----------+\n",
      "\n",
      "Query executada com sucesso.\n"
     ]
    }
   ],
   "source": [
    "from csvms.engine import Engine\n",
    "# Ao executar o SQL uma nova tabela deve ser criada, de acordo com a especificação\n",
    "Engine().execute(\"\"\"SELECT * FROM venda_frutas\"\"\")"
   ]
  },
  {
   "cell_type": "markdown",
   "metadata": {},
   "source": [
    "### Junção Cruzada"
   ]
  },
  {
   "cell_type": "code",
   "execution_count": 2,
   "metadata": {},
   "outputs": [
    {
     "name": "stdout",
     "output_type": "stream",
     "text": [
      " +------+------+\n",
      " |fruta |valor |\n",
      " +------+------+\n",
      "0|banana|   1.5|\n",
      "1| limão|   2.5|\n",
      "2|  maçã|   1.5|\n",
      " +------+------+\n",
      "\n",
      "Query executada com sucesso.\n"
     ]
    }
   ],
   "source": [
    "from csvms.engine import Engine\n",
    "# Ao executar o SQL uma nova tabela deve ser criada, de acordo com a especificação\n",
    "Engine().execute(\"\"\"SELECT l.nm_fruta AS fruta, t.vl_fruta AS valor FROM lista_frutas l, tipo_frutas t WHERE l.tp_fruta = t.tp_fruta\"\"\") "
   ]
  },
  {
   "cell_type": "markdown",
   "metadata": {},
   "source": [
    "## Testing and debugging"
   ]
  },
  {
   "cell_type": "markdown",
   "metadata": {},
   "source": [
    "##### Teste Principal"
   ]
  },
  {
   "cell_type": "code",
   "execution_count": null,
   "metadata": {},
   "outputs": [],
   "source": [
    "from test_day1 import test_criacao, test_inclusao, test_insercao, test_atualizacao, test_delecao\n",
    "\n",
    "test_criacao()\n",
    "\n",
    "test_inclusao()\n",
    "\n",
    "test_insercao()\n",
    "\n",
    "test_atualizacao()\n",
    "\n",
    "#test_delecao()"
   ]
  },
  {
   "cell_type": "markdown",
   "metadata": {},
   "source": [
    "#### Testing and Debugging Lotes"
   ]
  },
  {
   "cell_type": "code",
   "execution_count": null,
   "metadata": {},
   "outputs": [],
   "source": [
    "from csvms.engine import Engine\n",
    "import os\n",
    "import shutil\n",
    "\n",
    "if os.path.exists(os.getcwd() + \"/data\"):\n",
    "    path = os.getcwd() + \"/data\"\n",
    "    shutil.rmtree(path)\n",
    "\n",
    "test = Engine().sql_file_recovering('sql_data')\n",
    "\n",
    "print(test)"
   ]
  },
  {
   "cell_type": "markdown",
   "metadata": {},
   "source": [
    "#### Dia 3 - Seleção "
   ]
  },
  {
   "cell_type": "code",
   "execution_count": 5,
   "metadata": {},
   "outputs": [
    {
     "name": "stdout",
     "output_type": "stream",
     "text": [
      " +---------+---------+\n",
      " |nm_fruta |tp_fruta |\n",
      " +---------+---------+\n",
      "0|   banana|     doce|\n",
      "1|    limão|    azedo|\n",
      "2|     maçã|     doce|\n",
      " +---------+---------+\n",
      "\n"
     ]
    }
   ],
   "source": [
    "from csvms.engine import Engine\n",
    "# Ao executar o SQL uma nova tabela deve ser criada, de acordo com a especificação\n",
    "Engine().execute(\"\"\"SELECT * FROM lista_frutas\"\"\")"
   ]
  },
  {
   "cell_type": "markdown",
   "metadata": {},
   "source": [
    "#### Dia 3 - Junção Cruzada "
   ]
  },
  {
   "cell_type": "code",
   "execution_count": 1,
   "metadata": {},
   "outputs": [
    {
     "name": "stdout",
     "output_type": "stream",
     "text": [
      " +------+------+\n",
      " |fruta |valor |\n",
      " +------+------+\n",
      "0|banana|   1.5|\n",
      "1| limão|   2.5|\n",
      "2|  maçã|   1.5|\n",
      " +------+------+\n",
      "\n"
     ]
    }
   ],
   "source": [
    "from csvms.engine import Engine\n",
    "# Ao executar o SQL uma nova tabela deve ser criada, de acordo com a especificação\n",
    "Engine().execute(\"\"\"SELECT l.nm_fruta AS fruta, t.vl_fruta AS valor FROM lista_frutas l, tipo_frutas t WHERE l.tp_fruta = t.tp_fruta\"\"\") "
   ]
  },
  {
   "cell_type": "markdown",
   "metadata": {},
   "source": [
    "##### Other Test"
   ]
  },
  {
   "cell_type": "code",
   "execution_count": 2,
   "metadata": {},
   "outputs": [
    {
     "name": "stdout",
     "output_type": "stream",
     "text": [
      "vl_fruta\n",
      "{'vl_fruta': ['1.5', '2.5', '1.5']}\n",
      " +------+------+\n",
      " |fruta |valor |\n",
      " +------+------+\n",
      "0|   1.5|banana|\n",
      "1|   2.5| limão|\n",
      "2|   1.5|  maçã|\n",
      " +------+------+\n",
      "\n"
     ]
    }
   ],
   "source": [
    "from csvms.engine import Engine\n",
    "# Ao executar o SQL uma nova tabela deve ser criada, de acordo com a especificação\n",
    "Engine().execute(\"\"\"SELECT t.vl_fruta AS valor, l.nm_fruta AS fruta FROM lista_frutas l, tipo_frutas t WHERE l.tp_fruta = t.tp_fruta\"\"\") "
   ]
  },
  {
   "cell_type": "markdown",
   "metadata": {},
   "source": [
    "#### Misc"
   ]
  },
  {
   "cell_type": "code",
   "execution_count": 3,
   "metadata": {},
   "outputs": [
    {
     "name": "stdout",
     "output_type": "stream",
     "text": [
      "(1, 'a', 0.55)\n",
      "(3, 'c', None)\n"
     ]
    },
    {
     "ename": "AssertionError",
     "evalue": "",
     "output_type": "error",
     "traceback": [
      "\u001b[0;31m---------------------------------------------------------------------------\u001b[0m",
      "\u001b[0;31mAssertionError\u001b[0m                            Traceback (most recent call last)",
      "\u001b[1;32m/mnt/c/Users/Pablo/DevStuff/Bootcamp_Compass/0722-bootcamp-sql/tests/tasks/milestones.ipynb Cell 50\u001b[0m in \u001b[0;36m<cell line: 3>\u001b[0;34m()\u001b[0m\n\u001b[1;32m      <a href='vscode-notebook-cell://wsl%2Bubuntu/mnt/c/Users/Pablo/DevStuff/Bootcamp_Compass/0722-bootcamp-sql/tests/tasks/milestones.ipynb#Y100sdnNjb2RlLXJlbW90ZQ%3D%3D?line=0'>1</a>\u001b[0m \u001b[39mfrom\u001b[39;00m \u001b[39mtests\u001b[39;00m\u001b[39m.\u001b[39;00m\u001b[39mcore\u001b[39;00m\u001b[39m.\u001b[39;00m\u001b[39mtest_joins\u001b[39;00m \u001b[39mimport\u001b[39;00m test_inner_join_projection\n\u001b[0;32m----> <a href='vscode-notebook-cell://wsl%2Bubuntu/mnt/c/Users/Pablo/DevStuff/Bootcamp_Compass/0722-bootcamp-sql/tests/tasks/milestones.ipynb#Y100sdnNjb2RlLXJlbW90ZQ%3D%3D?line=2'>3</a>\u001b[0m test_inner_join_projection()\n",
      "File \u001b[0;32m/mnt/c/Users/Pablo/DevStuff/Bootcamp_Compass/0722-bootcamp-sql/tests/core/test_joins.py:7\u001b[0m, in \u001b[0;36mtest_inner_join_projection\u001b[0;34m()\u001b[0m\n\u001b[1;32m      5\u001b[0m \u001b[39m\"\"\"Test inner join projection operator\"\"\"\u001b[39;00m\n\u001b[1;32m      6\u001b[0m \u001b[39m# A join B\u001b[39;00m\n\u001b[0;32m----> 7\u001b[0m \u001b[39massert\u001b[39;00m A\u001b[39m.\u001b[39mᐅᐊ(B, where\u001b[39m=\u001b[39m{\u001b[39m'\u001b[39m\u001b[39meq\u001b[39m\u001b[39m'\u001b[39m:[\u001b[39m'\u001b[39m\u001b[39mA.chave\u001b[39m\u001b[39m'\u001b[39m,\u001b[39m'\u001b[39m\u001b[39mB.chave\u001b[39m\u001b[39m'\u001b[39m]})\u001b[39m.\u001b[39mdefinition \u001b[39m==\u001b[39m {\n\u001b[1;32m      8\u001b[0m     \u001b[39m'\u001b[39m\u001b[39mname\u001b[39m\u001b[39m'\u001b[39m: \u001b[39m'\u001b[39m\u001b[39mmock.(A⋈B)\u001b[39m\u001b[39m'\u001b[39m,\n\u001b[1;32m      9\u001b[0m     \u001b[39m'\u001b[39m\u001b[39mcolumns\u001b[39m\u001b[39m'\u001b[39m: {\n\u001b[1;32m     10\u001b[0m         \u001b[39m'\u001b[39m\u001b[39mA.chave\u001b[39m\u001b[39m'\u001b[39m: \u001b[39m'\u001b[39m\u001b[39minteger\u001b[39m\u001b[39m'\u001b[39m,\u001b[39m'\u001b[39m\u001b[39mA.desc\u001b[39m\u001b[39m'\u001b[39m: \u001b[39m'\u001b[39m\u001b[39mtext\u001b[39m\u001b[39m'\u001b[39m,\u001b[39m'\u001b[39m\u001b[39mA.valor\u001b[39m\u001b[39m'\u001b[39m: \u001b[39m'\u001b[39m\u001b[39mfloat\u001b[39m\u001b[39m'\u001b[39m,\n\u001b[1;32m     11\u001b[0m         \u001b[39m'\u001b[39m\u001b[39mB.chave\u001b[39m\u001b[39m'\u001b[39m: \u001b[39m'\u001b[39m\u001b[39minteger\u001b[39m\u001b[39m'\u001b[39m,\u001b[39m'\u001b[39m\u001b[39mB.desc\u001b[39m\u001b[39m'\u001b[39m: \u001b[39m'\u001b[39m\u001b[39mtext\u001b[39m\u001b[39m'\u001b[39m,\u001b[39m'\u001b[39m\u001b[39mB.valor\u001b[39m\u001b[39m'\u001b[39m: \u001b[39m'\u001b[39m\u001b[39mfloat\u001b[39m\u001b[39m'\u001b[39m},\n\u001b[1;32m     12\u001b[0m     \u001b[39m'\u001b[39m\u001b[39mindexes\u001b[39m\u001b[39m'\u001b[39m: {}}\n\u001b[1;32m     13\u001b[0m \u001b[39massert\u001b[39;00m [r \u001b[39mfor\u001b[39;00m r \u001b[39min\u001b[39;00m A\u001b[39m.\u001b[39mᐅᐊ(B, where\u001b[39m=\u001b[39m{\u001b[39m'\u001b[39m\u001b[39meq\u001b[39m\u001b[39m'\u001b[39m:[\u001b[39m'\u001b[39m\u001b[39mA.chave\u001b[39m\u001b[39m'\u001b[39m,\u001b[39m'\u001b[39m\u001b[39mB.chave\u001b[39m\u001b[39m'\u001b[39m]})] \u001b[39m==\u001b[39m [(\u001b[39m1\u001b[39m,\u001b[39m'\u001b[39m\u001b[39ma\u001b[39m\u001b[39m'\u001b[39m,\u001b[39m0.55\u001b[39m,\u001b[39m1\u001b[39m,\u001b[39m'\u001b[39m\u001b[39ma\u001b[39m\u001b[39m'\u001b[39m,\u001b[39m0.55\u001b[39m)]\n\u001b[1;32m     14\u001b[0m \u001b[39m# B join A\u001b[39;00m\n",
      "\u001b[0;31mAssertionError\u001b[0m: "
     ]
    }
   ],
   "source": [
    "from tests.core.test_joins import test_inner_join_projection\n",
    "\n",
    "test_inner_join_projection()"
   ]
  },
  {
   "cell_type": "code",
   "execution_count": 4,
   "metadata": {},
   "outputs": [],
   "source": [
    "from tests.core.test_joins import test_cross_join\n",
    "\n",
    "test_cross_join()"
   ]
  },
  {
   "cell_type": "code",
   "execution_count": 5,
   "metadata": {},
   "outputs": [
    {
     "ename": "AssertionError",
     "evalue": "",
     "output_type": "error",
     "traceback": [
      "\u001b[0;31m---------------------------------------------------------------------------\u001b[0m",
      "\u001b[0;31mAssertionError\u001b[0m                            Traceback (most recent call last)",
      "\u001b[1;32m/mnt/c/Users/Pablo/DevStuff/Bootcamp_Compass/0722-bootcamp-sql/tests/tasks/milestones.ipynb Cell 52\u001b[0m in \u001b[0;36m<cell line: 3>\u001b[0;34m()\u001b[0m\n\u001b[1;32m      <a href='vscode-notebook-cell://wsl%2Bubuntu/mnt/c/Users/Pablo/DevStuff/Bootcamp_Compass/0722-bootcamp-sql/tests/tasks/milestones.ipynb#Y102sdnNjb2RlLXJlbW90ZQ%3D%3D?line=0'>1</a>\u001b[0m \u001b[39mfrom\u001b[39;00m \u001b[39mtests\u001b[39;00m\u001b[39m.\u001b[39;00m\u001b[39mcore\u001b[39;00m\u001b[39m.\u001b[39;00m\u001b[39mtest_operations\u001b[39;00m \u001b[39mimport\u001b[39;00m test_union\n\u001b[0;32m----> <a href='vscode-notebook-cell://wsl%2Bubuntu/mnt/c/Users/Pablo/DevStuff/Bootcamp_Compass/0722-bootcamp-sql/tests/tasks/milestones.ipynb#Y102sdnNjb2RlLXJlbW90ZQ%3D%3D?line=2'>3</a>\u001b[0m test_union()\n",
      "File \u001b[0;32m/mnt/c/Users/Pablo/DevStuff/Bootcamp_Compass/0722-bootcamp-sql/tests/core/test_operations.py:27\u001b[0m, in \u001b[0;36mtest_union\u001b[0;34m()\u001b[0m\n\u001b[1;32m     25\u001b[0m \u001b[39mdef\u001b[39;00m \u001b[39mtest_union\u001b[39m():\n\u001b[1;32m     26\u001b[0m     \u001b[39m\"\"\"Test union operator\"\"\"\u001b[39;00m\n\u001b[0;32m---> 27\u001b[0m     \u001b[39massert\u001b[39;00m (A \u001b[39m+\u001b[39m B)\u001b[39m.\u001b[39mdefinition \u001b[39m==\u001b[39m {\n\u001b[1;32m     28\u001b[0m         \u001b[39m\"\u001b[39m\u001b[39mname\u001b[39m\u001b[39m\"\u001b[39m: \u001b[39m\"\u001b[39m\u001b[39mmock.(A∪B)\u001b[39m\u001b[39m\"\u001b[39m,\n\u001b[1;32m     29\u001b[0m         \u001b[39m\"\u001b[39m\u001b[39mcolumns\u001b[39m\u001b[39m\"\u001b[39m: {\n\u001b[1;32m     30\u001b[0m             \u001b[39m\"\u001b[39m\u001b[39mchave\u001b[39m\u001b[39m\"\u001b[39m: \u001b[39m\"\u001b[39m\u001b[39minteger\u001b[39m\u001b[39m\"\u001b[39m,\n\u001b[1;32m     31\u001b[0m             \u001b[39m\"\u001b[39m\u001b[39mdesc\u001b[39m\u001b[39m\"\u001b[39m: \u001b[39m\"\u001b[39m\u001b[39mtext\u001b[39m\u001b[39m\"\u001b[39m,\n\u001b[1;32m     32\u001b[0m             \u001b[39m\"\u001b[39m\u001b[39mvalor\u001b[39m\u001b[39m\"\u001b[39m: \u001b[39m\"\u001b[39m\u001b[39mfloat\u001b[39m\u001b[39m\"\u001b[39m},\n\u001b[1;32m     33\u001b[0m         \u001b[39m'\u001b[39m\u001b[39mindexes\u001b[39m\u001b[39m'\u001b[39m: {}}\n\u001b[1;32m     34\u001b[0m     \u001b[39massert\u001b[39;00m [r \u001b[39mfor\u001b[39;00m r \u001b[39min\u001b[39;00m (A \u001b[39m+\u001b[39m B)] \u001b[39m==\u001b[39m [\n\u001b[1;32m     35\u001b[0m         (\u001b[39m1\u001b[39m,\u001b[39m\"\u001b[39m\u001b[39ma\u001b[39m\u001b[39m\"\u001b[39m,\u001b[39m0.55\u001b[39m),\n\u001b[1;32m     36\u001b[0m         (\u001b[39m3\u001b[39m,\u001b[39m\"\u001b[39m\u001b[39mc\u001b[39m\u001b[39m\"\u001b[39m,\u001b[39mNone\u001b[39;00m),\n\u001b[1;32m     37\u001b[0m         (\u001b[39m2\u001b[39m,\u001b[39m\"\u001b[39m\u001b[39mb\u001b[39m\u001b[39m\"\u001b[39m,\u001b[39m1.05\u001b[39m)\n\u001b[1;32m     38\u001b[0m     ]\n",
      "\u001b[0;31mAssertionError\u001b[0m: "
     ]
    }
   ],
   "source": [
    "from tests.core.test_operations import test_union\n",
    "\n",
    "test_union()"
   ]
  },
  {
   "cell_type": "code",
   "execution_count": null,
   "metadata": {},
   "outputs": [],
   "source": [
    "from mo_sql_parsing import parse\n",
    "\n",
    "sql = \"\"\"INSERT INTO lista_frutas VALUES ('banana','doce');COMMIT;\"\"\"\n",
    "\n",
    "sql2 = \"\"\"\n",
    "    UPDATE lista_frutas\n",
    "    SET tp_fruta = 'azedo'\n",
    "    WHERE nm_fruta = 'limão';\n",
    "    COMMIT;\"\"\"\n",
    "\n",
    "sql3 = \"\"\"\n",
    "    CREATE TABLE lista_frutas (\n",
    "        nm_fruta TEXT ,\n",
    "        tp_fruta TEXT \n",
    "    )\"\"\"\n",
    "\n",
    "sql_lista = sql.split(\";\")\n",
    "print(sql_lista)\n",
    "sql_lista = [item.strip().lower() for item in sql_lista if item != \"\"]\n",
    "sql_lista = sql_lista[:-1]\n",
    "print(sql_lista)\n",
    "sqll = \" \".join(sql_lista)\n",
    "\n",
    "ast2 = parse(sql_lista)\n",
    "print(ast2)\n",
    "\n",
    "\n",
    "#for pos_value in range(len(ast2['query']['select'])):\n",
    "#        values += (ast2['query']['select'][pos_value]\n",
    "#                               ['value']['literal'], )\n",
    "\n",
    "#print([values])"
   ]
  },
  {
   "cell_type": "code",
   "execution_count": null,
   "metadata": {},
   "outputs": [],
   "source": [
    "from csvms.table import Table\n",
    "from json import loads\n",
    "\n",
    "a = Table(name=\"lista_frutas\").load()\n",
    "print(a)\n",
    "\n",
    "with open(\"./data/catalog.json\") as f:\n",
    "        data = f.read()\n",
    "ndata = list(loads(data).values())\n",
    "print(ndata)\n",
    "name = \"lista_frutas\"\n",
    "cols = {}\n",
    "for table in ndata:\n",
    "        if table['name'] == f\"default.{name}\":\n",
    "                cnames = list(table['columns'].keys())\n",
    "                ctypes = list(table['columns'].values())\n",
    "                for name, type in zip(cnames, ctypes):\n",
    "                        ctype = Table.dtypes[type]\n",
    "                        cols[name] = ctype\n",
    "        print(cols)\n"
   ]
  },
  {
   "cell_type": "code",
   "execution_count": null,
   "metadata": {},
   "outputs": [],
   "source": [
    "from mo_sql_parsing import parse\n",
    "\n",
    "sql1 = \"\"\"\n",
    "    INSERT INTO lista_frutas VALUES ('banana','doce');\n",
    "    INSERT INTO lista_frutas VALUES ('limão','amargo');\n",
    "    INSERT INTO lista_frutas VALUES ('bergamota','azedo');\n",
    "    INSERT INTO lista_frutas VALUES ('maçã','doce');\n",
    "    COMMIT;\"\"\"\n",
    "\n",
    "sql2 = \"\"\"\n",
    "    INSERT INTO tipo_frutas VALUES ('doce',1.5);\n",
    "    INSERT INTO tipo_frutas VALUES ('amargo',2.0);\n",
    "    COMMIT;\"\"\"\n",
    "\n",
    "sql3 = \"\"\"\n",
    "    UPDATE lista_frutas\n",
    "    SET tp_fruta = 'azedo'\n",
    "    WHERE nm_fruta = 'limão';\n",
    "    COMMIT;\"\"\"\n",
    "\n",
    "sql4 = \"\"\"\n",
    "    CREATE TABLE tipo_frutas (\n",
    "        tp_fruta TEXT,\n",
    "        vl_fruta FLOAT\n",
    "    )\"\"\"\n",
    "\n",
    "\n",
    "sql_lista = sql3.split(\";\")\n",
    "sql_lista = [item.strip().lower()\n",
    "                    for item in sql_lista if item != \"\"]\n",
    "\n",
    "print(sql_lista)\n",
    "\n",
    "#ast = parse(sql_lista)\n",
    "#print(ast)\n",
    "\n",
    "\"\"\"if sql.lower().split()[0] == 'insert':\n",
    "    for sql_insert in sql_lista[:-1]:\n",
    "        #print(sql_insert)\n",
    "        ast = parse(sql_insert)\n",
    "        #print(ast)\n",
    "        values = ()\n",
    "        for pos_value in range(len(ast['query']['select'])):\n",
    "            values += (ast['query']['select'][pos_value]\n",
    "                        ['value']['literal'], )\n",
    "    print(values)\n",
    "\n",
    "\"\"\"\n",
    "\n",
    "\"\"\"for sql_insert in sql_lista[:-1]:\n",
    "                    ast = parse(sql_insert)\n",
    "                    #print(ast)\n",
    "                    value_extraction = ast['query']['select']\n",
    "                    name = ast['insert']\n",
    "                    values = ()\n",
    "                    for pos_value in range(len(value_extraction)):\n",
    "                        #print(value_extraction[pos_value].get(\"value\"))\n",
    "                        if type(value_extraction[pos_value].get('value')) is dict:\n",
    "                            values += (list(value_extraction[pos_value].get('value').values())[0], )\n",
    "                        else:\n",
    "                            values += (value_extraction[pos_value].get(\"value\"), )\n",
    "                    print(values)\"\"\""
   ]
  },
  {
   "cell_type": "code",
   "execution_count": null,
   "metadata": {},
   "outputs": [],
   "source": [
    "from mo_sql_parsing import parse\n",
    "\n",
    "sql3 = \"\"\"\n",
    "    UPDATE lista_frutas\n",
    "    SET tp_fruta = 'azedo'\n",
    "    WHERE nm_fruta = 'limão';\n",
    "    COMMIT;\"\"\"\n",
    "\n",
    "\n",
    "sql_lista = sql3.split(\";\")\n",
    "sql_lista = [item.strip().lower()\n",
    "                    for item in sql_lista if item != \"\"]\n",
    "\n",
    "print(sql_lista)\n",
    "\n",
    "sql = ' '.join(sql_lista)\n",
    "ast = parse(sql)\n",
    "\n",
    "print(ast)\n",
    "\n",
    "\n",
    "set_column = list(ast['set'].keys())[0]\n",
    "set_value = ast['set'][set_column]['literal']\n",
    "print(set_column, set_value)\n",
    "\n",
    "where_column = ast['where']['eq'][0]\n",
    "where_value = ast['where']['eq'][1]['literal'] \n",
    "print(where_column, where_value)\n",
    "\n",
    "set_table = ast['update']\n",
    "print(set_table)\n"
   ]
  },
  {
   "cell_type": "code",
   "execution_count": null,
   "metadata": {},
   "outputs": [],
   "source": [
    "from mo_sql_parsing import parse\n",
    "\n",
    "sql=\"\"\"\n",
    "    DELETE FROM lista_frutas \n",
    "    WHERE nm_fruta = 'limão';\n",
    "    COMMIT;\n",
    "    \"\"\"\n",
    "sql_lista = sql.split(\";\")\n",
    "print(sql_lista)\n",
    "sql_lista = [item.strip().lower()\n",
    "                    for item in sql_lista if item.strip().lower() != '']\n",
    "\n",
    "print(sql_lista)\n",
    "\n",
    "sql = ' '.join(sql_lista)\n",
    "ast = parse(sql)\n",
    "\n",
    "print(ast)\n",
    "\n"
   ]
  },
  {
   "cell_type": "code",
   "execution_count": null,
   "metadata": {},
   "outputs": [],
   "source": [
    "import os\n",
    "\n",
    "with open(os.getcwd() + \"/data/default/lista_frutas.csv\") as f:\n",
    "    lf_data = f.read()\n",
    "with open(os.getcwd() + \"/data/default/tipo_frutas.csv\") as f:\n",
    "    tf_data = f.read()\n",
    "current_table = 1 if \"lista_frutas\" == \"lista_frutas\" else tf_data\n",
    "\n",
    "print(lf_data)\n",
    "x = lf_data.replace(\"\\n\", \";\").split(\";\")\n",
    "print(x)\n",
    "lista_n = []\n",
    "previous_pos = 0\n",
    "for i in range(1, len(x) + 1):\n",
    "    if i % 2 == 0:\n",
    "        print(previous_pos, i)\n",
    "        lista_n.append(tuple(x[previous_pos:i]))\n",
    "        previous_pos = i \n",
    "print(lista_n)"
   ]
  },
  {
   "cell_type": "code",
   "execution_count": null,
   "metadata": {},
   "outputs": [],
   "source": [
    "l = [('banana', 'doce'), ('limão', 'amargo'), ('bergamota', 'azedo'), ('maçã', 'doce')]\n",
    "\n",
    "for value in l:\n",
    "    print(list(value))\n",
    "\n",
    "s = \"\"\n",
    "\n",
    "if len(s) == 0:\n",
    "    print(1)\n",
    "\n",
    "x = [{'value': {'literal': 'doce'}}, {'value': 1.5}]\n",
    "\n",
    "y = x[0]\n",
    "k = y.values()\n",
    "#print(k)\n",
    "\n",
    "l2 = [['picoro', '2'], ['ss', 2]]\n",
    "l3 = [tuple(value) for value in l2]\n",
    "#print(l3)\n",
    "\n",
    "for i in l2:\n",
    "    for x in i:\n",
    "        if x == 'picoro':\n",
    "            del l2[l2.index(i)]\n",
    "print(l2)"
   ]
  },
  {
   "cell_type": "code",
   "execution_count": null,
   "metadata": {},
   "outputs": [],
   "source": [
    "where={'eq':['lista_frutas.tp_fruta','tipo_frutas.tp_fruta']}\n",
    "\n",
    "left_table = list(where.values())[0][0]\n",
    "new_where = {'and': [{'missing': left_table}, where]}\n",
    "\n",
    "print(left_table)\n",
    "print(new_where)"
   ]
  }
 ],
 "metadata": {
  "kernelspec": {
   "display_name": "Python 3.8.10 ('.venv': poetry)",
   "language": "python",
   "name": "python3"
  },
  "language_info": {
   "codemirror_mode": {
    "name": "ipython",
    "version": 3
   },
   "file_extension": ".py",
   "mimetype": "text/x-python",
   "name": "python",
   "nbconvert_exporter": "python",
   "pygments_lexer": "ipython3",
   "version": "3.8.10"
  },
  "orig_nbformat": 4,
  "vscode": {
   "interpreter": {
    "hash": "246eb461766e5927d7c1247c8e17407d91b222a1afbedd24f78565a88675ea33"
   }
  }
 },
 "nbformat": 4,
 "nbformat_minor": 2
}
